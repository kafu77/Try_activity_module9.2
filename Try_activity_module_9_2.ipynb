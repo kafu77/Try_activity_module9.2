{
  "nbformat": 4,
  "nbformat_minor": 0,
  "metadata": {
    "colab": {
      "provenance": []
    },
    "kernelspec": {
      "name": "python3",
      "display_name": "Python 3"
    },
    "language_info": {
      "name": "python"
    }
  },
  "cells": [
    {
      "cell_type": "markdown",
      "source": [
        "# Try-it 9.2: Predicting Wages\n",
        "\n",
        "This activity is meant to summarize your work with regularized regression models. You will use your earlier work with data preparation and pipelines together with what you've learned with grid searches to determine an optimal model. In addition to the prior strategies, this example is an excellent opportunity to utilize the TransformedTargetRegressor estimator in scikitlearn.\n",
        "\n"
      ],
      "metadata": {
        "id": "QRFlcTbI-erU"
      }
    },
    {
      "cell_type": "markdown",
      "source": [
        "# The Data\n",
        "\n",
        "This dataset is loaded from the openml resource library. Originally from census data, the data contains wage and demographic information on 534 individuals. From the dataset documentation here\n",
        "\n",
        "The Current Population Survey (CPS) is used to supplement census information between census years. These data consist of a random sample of 534 persons from the CPS, with information on wages and other characteristics of the workers, including sex, number of years of education, years of work experience, occupational status, region of residence and union membership. "
      ],
      "metadata": {
        "id": "GDf_5ueW--uO"
      }
    },
    {
      "cell_type": "markdown",
      "source": [
        "# Task\n",
        "Build regression models to predict WAGE. Incorporate the categorical features and transform the target using a logarithm. Build Ridge models and consider some different amounts of regularization.\n",
        "\n",
        "After fitting your model, interpret the model and try to understand what features led to higher wages. Consider using permutation_importance that you encountered in module 8. Discuss your findings in the class forum.\n",
        "\n",
        "For an in depth example discussing the perils of interpreting the coefficients see the example in scikitlearn examples here."
      ],
      "metadata": {
        "id": "gFHMap9C-40o"
      }
    },
    {
      "cell_type": "code",
      "source": [
        "import numpy as np\n",
        "import pandas as pd\n",
        "import matplotlib.pyplot as plt\n",
        "import seaborn as sns\n",
        "import plotly.express as px\n",
        "import plotly.graph_objects as go\n",
        "import cufflinks as cf\n",
        "cf.go_offline()\n",
        "%matplotlib inline"
      ],
      "metadata": {
        "colab": {
          "base_uri": "https://localhost:8080/",
          "height": 17
        },
        "id": "gfRyd77v-dkc",
        "outputId": "d7adaf3e-cf9e-4361-eb2a-6ff6f5288778"
      },
      "execution_count": 145,
      "outputs": [
        {
          "output_type": "display_data",
          "data": {
            "text/html": [
              "        <script type=\"text/javascript\">\n",
              "        window.PlotlyConfig = {MathJaxConfig: 'local'};\n",
              "        if (window.MathJax) {MathJax.Hub.Config({SVG: {font: \"STIX-Web\"}});}\n",
              "        if (typeof require !== 'undefined') {\n",
              "        require.undef(\"plotly\");\n",
              "        requirejs.config({\n",
              "            paths: {\n",
              "                'plotly': ['https://cdn.plot.ly/plotly-2.8.3.min']\n",
              "            }\n",
              "        });\n",
              "        require(['plotly'], function(Plotly) {\n",
              "            window._Plotly = Plotly;\n",
              "        });\n",
              "        }\n",
              "        </script>\n",
              "        "
            ]
          },
          "metadata": {}
        }
      ]
    },
    {
      "cell_type": "code",
      "source": [
        "#Importing required libraries\n",
        "from sklearn.datasets import load_breast_cancer\n",
        "from sklearn.preprocessing import StandardScaler, OneHotEncoder,OrdinalEncoder,PolynomialFeatures,LabelEncoder\n",
        "from sklearn.impute import SimpleImputer\n",
        "from sklearn.model_selection import train_test_split,GridSearchCV\n",
        "from sklearn.feature_selection import SequentialFeatureSelector\n",
        "from sklearn.linear_model import LinearRegression,Ridge,Lasso\n",
        "from sklearn.pipeline import Pipeline, make_pipeline\n",
        "from sklearn import set_config\n",
        "set_config(display=\"diagram\")\n",
        "\n",
        "from sklearn.decomposition import PCA,FastICA\n",
        "from sklearn.compose import ColumnTransformer,make_column_selector,make_column_transformer,TransformedTargetRegressor\n",
        "from sklearn.utils import shuffle\n",
        "from sklearn.inspection import permutation_importance\n",
        "\n",
        "from sklearn.metrics import mean_absolute_error, mean_squared_error\n",
        "from sklearn.datasets import fetch_openml"
      ],
      "metadata": {
        "id": "-E29EopIdFiX"
      },
      "execution_count": 146,
      "outputs": []
    },
    {
      "cell_type": "code",
      "source": [
        "wages = fetch_openml(data_id=534, as_frame=True)\n",
        "df=wages.frame"
      ],
      "metadata": {
        "id": "Npo_Mb0n6z8O"
      },
      "execution_count": 10,
      "outputs": []
    },
    {
      "cell_type": "code",
      "source": [
        "df"
      ],
      "metadata": {
        "id": "89kB-8F765ZA",
        "colab": {
          "base_uri": "https://localhost:8080/",
          "height": 424
        },
        "outputId": "31269f44-a305-430a-faff-6844ae617ba9"
      },
      "execution_count": 11,
      "outputs": [
        {
          "output_type": "execute_result",
          "data": {
            "text/plain": [
              "     EDUCATION SOUTH     SEX  EXPERIENCE       UNION   WAGE   AGE      RACE  \\\n",
              "0          8.0    no  female        21.0  not_member   5.10  35.0  Hispanic   \n",
              "1          9.0    no  female        42.0  not_member   4.95  57.0     White   \n",
              "2         12.0    no    male         1.0  not_member   6.67  19.0     White   \n",
              "3         12.0    no    male         4.0  not_member   4.00  22.0     White   \n",
              "4         12.0    no    male        17.0  not_member   7.50  35.0     White   \n",
              "..         ...   ...     ...         ...         ...    ...   ...       ...   \n",
              "529       18.0    no    male         5.0  not_member  11.36  29.0     White   \n",
              "530       12.0    no  female        33.0  not_member   6.10  51.0     Other   \n",
              "531       17.0    no  female        25.0      member  23.25  48.0     Other   \n",
              "532       12.0   yes    male        13.0      member  19.88  31.0     White   \n",
              "533       16.0    no    male        33.0  not_member  15.38  55.0     White   \n",
              "\n",
              "       OCCUPATION         SECTOR       MARR  \n",
              "0           Other  Manufacturing    Married  \n",
              "1           Other  Manufacturing    Married  \n",
              "2           Other  Manufacturing  Unmarried  \n",
              "3           Other          Other  Unmarried  \n",
              "4           Other          Other    Married  \n",
              "..            ...            ...        ...  \n",
              "529  Professional          Other  Unmarried  \n",
              "530  Professional          Other    Married  \n",
              "531  Professional          Other    Married  \n",
              "532  Professional          Other    Married  \n",
              "533  Professional  Manufacturing    Married  \n",
              "\n",
              "[534 rows x 11 columns]"
            ],
            "text/html": [
              "\n",
              "  <div id=\"df-f1007174-76e9-4438-b451-ba98094bb35b\">\n",
              "    <div class=\"colab-df-container\">\n",
              "      <div>\n",
              "<style scoped>\n",
              "    .dataframe tbody tr th:only-of-type {\n",
              "        vertical-align: middle;\n",
              "    }\n",
              "\n",
              "    .dataframe tbody tr th {\n",
              "        vertical-align: top;\n",
              "    }\n",
              "\n",
              "    .dataframe thead th {\n",
              "        text-align: right;\n",
              "    }\n",
              "</style>\n",
              "<table border=\"1\" class=\"dataframe\">\n",
              "  <thead>\n",
              "    <tr style=\"text-align: right;\">\n",
              "      <th></th>\n",
              "      <th>EDUCATION</th>\n",
              "      <th>SOUTH</th>\n",
              "      <th>SEX</th>\n",
              "      <th>EXPERIENCE</th>\n",
              "      <th>UNION</th>\n",
              "      <th>WAGE</th>\n",
              "      <th>AGE</th>\n",
              "      <th>RACE</th>\n",
              "      <th>OCCUPATION</th>\n",
              "      <th>SECTOR</th>\n",
              "      <th>MARR</th>\n",
              "    </tr>\n",
              "  </thead>\n",
              "  <tbody>\n",
              "    <tr>\n",
              "      <th>0</th>\n",
              "      <td>8.0</td>\n",
              "      <td>no</td>\n",
              "      <td>female</td>\n",
              "      <td>21.0</td>\n",
              "      <td>not_member</td>\n",
              "      <td>5.10</td>\n",
              "      <td>35.0</td>\n",
              "      <td>Hispanic</td>\n",
              "      <td>Other</td>\n",
              "      <td>Manufacturing</td>\n",
              "      <td>Married</td>\n",
              "    </tr>\n",
              "    <tr>\n",
              "      <th>1</th>\n",
              "      <td>9.0</td>\n",
              "      <td>no</td>\n",
              "      <td>female</td>\n",
              "      <td>42.0</td>\n",
              "      <td>not_member</td>\n",
              "      <td>4.95</td>\n",
              "      <td>57.0</td>\n",
              "      <td>White</td>\n",
              "      <td>Other</td>\n",
              "      <td>Manufacturing</td>\n",
              "      <td>Married</td>\n",
              "    </tr>\n",
              "    <tr>\n",
              "      <th>2</th>\n",
              "      <td>12.0</td>\n",
              "      <td>no</td>\n",
              "      <td>male</td>\n",
              "      <td>1.0</td>\n",
              "      <td>not_member</td>\n",
              "      <td>6.67</td>\n",
              "      <td>19.0</td>\n",
              "      <td>White</td>\n",
              "      <td>Other</td>\n",
              "      <td>Manufacturing</td>\n",
              "      <td>Unmarried</td>\n",
              "    </tr>\n",
              "    <tr>\n",
              "      <th>3</th>\n",
              "      <td>12.0</td>\n",
              "      <td>no</td>\n",
              "      <td>male</td>\n",
              "      <td>4.0</td>\n",
              "      <td>not_member</td>\n",
              "      <td>4.00</td>\n",
              "      <td>22.0</td>\n",
              "      <td>White</td>\n",
              "      <td>Other</td>\n",
              "      <td>Other</td>\n",
              "      <td>Unmarried</td>\n",
              "    </tr>\n",
              "    <tr>\n",
              "      <th>4</th>\n",
              "      <td>12.0</td>\n",
              "      <td>no</td>\n",
              "      <td>male</td>\n",
              "      <td>17.0</td>\n",
              "      <td>not_member</td>\n",
              "      <td>7.50</td>\n",
              "      <td>35.0</td>\n",
              "      <td>White</td>\n",
              "      <td>Other</td>\n",
              "      <td>Other</td>\n",
              "      <td>Married</td>\n",
              "    </tr>\n",
              "    <tr>\n",
              "      <th>...</th>\n",
              "      <td>...</td>\n",
              "      <td>...</td>\n",
              "      <td>...</td>\n",
              "      <td>...</td>\n",
              "      <td>...</td>\n",
              "      <td>...</td>\n",
              "      <td>...</td>\n",
              "      <td>...</td>\n",
              "      <td>...</td>\n",
              "      <td>...</td>\n",
              "      <td>...</td>\n",
              "    </tr>\n",
              "    <tr>\n",
              "      <th>529</th>\n",
              "      <td>18.0</td>\n",
              "      <td>no</td>\n",
              "      <td>male</td>\n",
              "      <td>5.0</td>\n",
              "      <td>not_member</td>\n",
              "      <td>11.36</td>\n",
              "      <td>29.0</td>\n",
              "      <td>White</td>\n",
              "      <td>Professional</td>\n",
              "      <td>Other</td>\n",
              "      <td>Unmarried</td>\n",
              "    </tr>\n",
              "    <tr>\n",
              "      <th>530</th>\n",
              "      <td>12.0</td>\n",
              "      <td>no</td>\n",
              "      <td>female</td>\n",
              "      <td>33.0</td>\n",
              "      <td>not_member</td>\n",
              "      <td>6.10</td>\n",
              "      <td>51.0</td>\n",
              "      <td>Other</td>\n",
              "      <td>Professional</td>\n",
              "      <td>Other</td>\n",
              "      <td>Married</td>\n",
              "    </tr>\n",
              "    <tr>\n",
              "      <th>531</th>\n",
              "      <td>17.0</td>\n",
              "      <td>no</td>\n",
              "      <td>female</td>\n",
              "      <td>25.0</td>\n",
              "      <td>member</td>\n",
              "      <td>23.25</td>\n",
              "      <td>48.0</td>\n",
              "      <td>Other</td>\n",
              "      <td>Professional</td>\n",
              "      <td>Other</td>\n",
              "      <td>Married</td>\n",
              "    </tr>\n",
              "    <tr>\n",
              "      <th>532</th>\n",
              "      <td>12.0</td>\n",
              "      <td>yes</td>\n",
              "      <td>male</td>\n",
              "      <td>13.0</td>\n",
              "      <td>member</td>\n",
              "      <td>19.88</td>\n",
              "      <td>31.0</td>\n",
              "      <td>White</td>\n",
              "      <td>Professional</td>\n",
              "      <td>Other</td>\n",
              "      <td>Married</td>\n",
              "    </tr>\n",
              "    <tr>\n",
              "      <th>533</th>\n",
              "      <td>16.0</td>\n",
              "      <td>no</td>\n",
              "      <td>male</td>\n",
              "      <td>33.0</td>\n",
              "      <td>not_member</td>\n",
              "      <td>15.38</td>\n",
              "      <td>55.0</td>\n",
              "      <td>White</td>\n",
              "      <td>Professional</td>\n",
              "      <td>Manufacturing</td>\n",
              "      <td>Married</td>\n",
              "    </tr>\n",
              "  </tbody>\n",
              "</table>\n",
              "<p>534 rows × 11 columns</p>\n",
              "</div>\n",
              "      <button class=\"colab-df-convert\" onclick=\"convertToInteractive('df-f1007174-76e9-4438-b451-ba98094bb35b')\"\n",
              "              title=\"Convert this dataframe to an interactive table.\"\n",
              "              style=\"display:none;\">\n",
              "        \n",
              "  <svg xmlns=\"http://www.w3.org/2000/svg\" height=\"24px\"viewBox=\"0 0 24 24\"\n",
              "       width=\"24px\">\n",
              "    <path d=\"M0 0h24v24H0V0z\" fill=\"none\"/>\n",
              "    <path d=\"M18.56 5.44l.94 2.06.94-2.06 2.06-.94-2.06-.94-.94-2.06-.94 2.06-2.06.94zm-11 1L8.5 8.5l.94-2.06 2.06-.94-2.06-.94L8.5 2.5l-.94 2.06-2.06.94zm10 10l.94 2.06.94-2.06 2.06-.94-2.06-.94-.94-2.06-.94 2.06-2.06.94z\"/><path d=\"M17.41 7.96l-1.37-1.37c-.4-.4-.92-.59-1.43-.59-.52 0-1.04.2-1.43.59L10.3 9.45l-7.72 7.72c-.78.78-.78 2.05 0 2.83L4 21.41c.39.39.9.59 1.41.59.51 0 1.02-.2 1.41-.59l7.78-7.78 2.81-2.81c.8-.78.8-2.07 0-2.86zM5.41 20L4 18.59l7.72-7.72 1.47 1.35L5.41 20z\"/>\n",
              "  </svg>\n",
              "      </button>\n",
              "      \n",
              "  <style>\n",
              "    .colab-df-container {\n",
              "      display:flex;\n",
              "      flex-wrap:wrap;\n",
              "      gap: 12px;\n",
              "    }\n",
              "\n",
              "    .colab-df-convert {\n",
              "      background-color: #E8F0FE;\n",
              "      border: none;\n",
              "      border-radius: 50%;\n",
              "      cursor: pointer;\n",
              "      display: none;\n",
              "      fill: #1967D2;\n",
              "      height: 32px;\n",
              "      padding: 0 0 0 0;\n",
              "      width: 32px;\n",
              "    }\n",
              "\n",
              "    .colab-df-convert:hover {\n",
              "      background-color: #E2EBFA;\n",
              "      box-shadow: 0px 1px 2px rgba(60, 64, 67, 0.3), 0px 1px 3px 1px rgba(60, 64, 67, 0.15);\n",
              "      fill: #174EA6;\n",
              "    }\n",
              "\n",
              "    [theme=dark] .colab-df-convert {\n",
              "      background-color: #3B4455;\n",
              "      fill: #D2E3FC;\n",
              "    }\n",
              "\n",
              "    [theme=dark] .colab-df-convert:hover {\n",
              "      background-color: #434B5C;\n",
              "      box-shadow: 0px 1px 3px 1px rgba(0, 0, 0, 0.15);\n",
              "      filter: drop-shadow(0px 1px 2px rgba(0, 0, 0, 0.3));\n",
              "      fill: #FFFFFF;\n",
              "    }\n",
              "  </style>\n",
              "\n",
              "      <script>\n",
              "        const buttonEl =\n",
              "          document.querySelector('#df-f1007174-76e9-4438-b451-ba98094bb35b button.colab-df-convert');\n",
              "        buttonEl.style.display =\n",
              "          google.colab.kernel.accessAllowed ? 'block' : 'none';\n",
              "\n",
              "        async function convertToInteractive(key) {\n",
              "          const element = document.querySelector('#df-f1007174-76e9-4438-b451-ba98094bb35b');\n",
              "          const dataTable =\n",
              "            await google.colab.kernel.invokeFunction('convertToInteractive',\n",
              "                                                     [key], {});\n",
              "          if (!dataTable) return;\n",
              "\n",
              "          const docLinkHtml = 'Like what you see? Visit the ' +\n",
              "            '<a target=\"_blank\" href=https://colab.research.google.com/notebooks/data_table.ipynb>data table notebook</a>'\n",
              "            + ' to learn more about interactive tables.';\n",
              "          element.innerHTML = '';\n",
              "          dataTable['output_type'] = 'display_data';\n",
              "          await google.colab.output.renderOutput(dataTable, element);\n",
              "          const docLink = document.createElement('div');\n",
              "          docLink.innerHTML = docLinkHtml;\n",
              "          element.appendChild(docLink);\n",
              "        }\n",
              "      </script>\n",
              "    </div>\n",
              "  </div>\n",
              "  "
            ]
          },
          "metadata": {},
          "execution_count": 11
        }
      ]
    },
    {
      "cell_type": "code",
      "source": [],
      "metadata": {
        "id": "KO3Tbfiy8i5f"
      },
      "execution_count": null,
      "outputs": []
    },
    {
      "cell_type": "markdown",
      "source": [
        "# EDA"
      ],
      "metadata": {
        "id": "wK68fBTGelas"
      }
    },
    {
      "cell_type": "code",
      "source": [
        "df.info()"
      ],
      "metadata": {
        "colab": {
          "base_uri": "https://localhost:8080/"
        },
        "id": "ik1eQwmcemaP",
        "outputId": "8ad6e989-53a1-43db-9993-84e826e68b77"
      },
      "execution_count": 12,
      "outputs": [
        {
          "output_type": "stream",
          "name": "stdout",
          "text": [
            "<class 'pandas.core.frame.DataFrame'>\n",
            "RangeIndex: 534 entries, 0 to 533\n",
            "Data columns (total 11 columns):\n",
            " #   Column      Non-Null Count  Dtype   \n",
            "---  ------      --------------  -----   \n",
            " 0   EDUCATION   534 non-null    float64 \n",
            " 1   SOUTH       534 non-null    category\n",
            " 2   SEX         534 non-null    category\n",
            " 3   EXPERIENCE  534 non-null    float64 \n",
            " 4   UNION       534 non-null    category\n",
            " 5   WAGE        534 non-null    float64 \n",
            " 6   AGE         534 non-null    float64 \n",
            " 7   RACE        534 non-null    category\n",
            " 8   OCCUPATION  534 non-null    category\n",
            " 9   SECTOR      534 non-null    category\n",
            " 10  MARR        534 non-null    category\n",
            "dtypes: category(7), float64(4)\n",
            "memory usage: 21.4 KB\n"
          ]
        }
      ]
    },
    {
      "cell_type": "markdown",
      "source": [
        "The data set has a 534 entries and 11 features. Some of the data type of the features are floats and some of them are category."
      ],
      "metadata": {
        "id": "3-YF1W7deuFE"
      }
    },
    {
      "cell_type": "code",
      "source": [
        "df.describe()"
      ],
      "metadata": {
        "colab": {
          "base_uri": "https://localhost:8080/",
          "height": 300
        },
        "id": "mf83vbUlepfB",
        "outputId": "85ce965f-2e36-4965-d147-02fcb3a66550"
      },
      "execution_count": 13,
      "outputs": [
        {
          "output_type": "execute_result",
          "data": {
            "text/plain": [
              "        EDUCATION  EXPERIENCE        WAGE         AGE\n",
              "count  534.000000  534.000000  534.000000  534.000000\n",
              "mean    13.018727   17.822097    9.024064   36.833333\n",
              "std      2.615373   12.379710    5.139097   11.726573\n",
              "min      2.000000    0.000000    1.000000   18.000000\n",
              "25%     12.000000    8.000000    5.250000   28.000000\n",
              "50%     12.000000   15.000000    7.780000   35.000000\n",
              "75%     15.000000   26.000000   11.250000   44.000000\n",
              "max     18.000000   55.000000   44.500000   64.000000"
            ],
            "text/html": [
              "\n",
              "  <div id=\"df-8b22a448-ba04-43c0-9490-7c30d10ae6ae\">\n",
              "    <div class=\"colab-df-container\">\n",
              "      <div>\n",
              "<style scoped>\n",
              "    .dataframe tbody tr th:only-of-type {\n",
              "        vertical-align: middle;\n",
              "    }\n",
              "\n",
              "    .dataframe tbody tr th {\n",
              "        vertical-align: top;\n",
              "    }\n",
              "\n",
              "    .dataframe thead th {\n",
              "        text-align: right;\n",
              "    }\n",
              "</style>\n",
              "<table border=\"1\" class=\"dataframe\">\n",
              "  <thead>\n",
              "    <tr style=\"text-align: right;\">\n",
              "      <th></th>\n",
              "      <th>EDUCATION</th>\n",
              "      <th>EXPERIENCE</th>\n",
              "      <th>WAGE</th>\n",
              "      <th>AGE</th>\n",
              "    </tr>\n",
              "  </thead>\n",
              "  <tbody>\n",
              "    <tr>\n",
              "      <th>count</th>\n",
              "      <td>534.000000</td>\n",
              "      <td>534.000000</td>\n",
              "      <td>534.000000</td>\n",
              "      <td>534.000000</td>\n",
              "    </tr>\n",
              "    <tr>\n",
              "      <th>mean</th>\n",
              "      <td>13.018727</td>\n",
              "      <td>17.822097</td>\n",
              "      <td>9.024064</td>\n",
              "      <td>36.833333</td>\n",
              "    </tr>\n",
              "    <tr>\n",
              "      <th>std</th>\n",
              "      <td>2.615373</td>\n",
              "      <td>12.379710</td>\n",
              "      <td>5.139097</td>\n",
              "      <td>11.726573</td>\n",
              "    </tr>\n",
              "    <tr>\n",
              "      <th>min</th>\n",
              "      <td>2.000000</td>\n",
              "      <td>0.000000</td>\n",
              "      <td>1.000000</td>\n",
              "      <td>18.000000</td>\n",
              "    </tr>\n",
              "    <tr>\n",
              "      <th>25%</th>\n",
              "      <td>12.000000</td>\n",
              "      <td>8.000000</td>\n",
              "      <td>5.250000</td>\n",
              "      <td>28.000000</td>\n",
              "    </tr>\n",
              "    <tr>\n",
              "      <th>50%</th>\n",
              "      <td>12.000000</td>\n",
              "      <td>15.000000</td>\n",
              "      <td>7.780000</td>\n",
              "      <td>35.000000</td>\n",
              "    </tr>\n",
              "    <tr>\n",
              "      <th>75%</th>\n",
              "      <td>15.000000</td>\n",
              "      <td>26.000000</td>\n",
              "      <td>11.250000</td>\n",
              "      <td>44.000000</td>\n",
              "    </tr>\n",
              "    <tr>\n",
              "      <th>max</th>\n",
              "      <td>18.000000</td>\n",
              "      <td>55.000000</td>\n",
              "      <td>44.500000</td>\n",
              "      <td>64.000000</td>\n",
              "    </tr>\n",
              "  </tbody>\n",
              "</table>\n",
              "</div>\n",
              "      <button class=\"colab-df-convert\" onclick=\"convertToInteractive('df-8b22a448-ba04-43c0-9490-7c30d10ae6ae')\"\n",
              "              title=\"Convert this dataframe to an interactive table.\"\n",
              "              style=\"display:none;\">\n",
              "        \n",
              "  <svg xmlns=\"http://www.w3.org/2000/svg\" height=\"24px\"viewBox=\"0 0 24 24\"\n",
              "       width=\"24px\">\n",
              "    <path d=\"M0 0h24v24H0V0z\" fill=\"none\"/>\n",
              "    <path d=\"M18.56 5.44l.94 2.06.94-2.06 2.06-.94-2.06-.94-.94-2.06-.94 2.06-2.06.94zm-11 1L8.5 8.5l.94-2.06 2.06-.94-2.06-.94L8.5 2.5l-.94 2.06-2.06.94zm10 10l.94 2.06.94-2.06 2.06-.94-2.06-.94-.94-2.06-.94 2.06-2.06.94z\"/><path d=\"M17.41 7.96l-1.37-1.37c-.4-.4-.92-.59-1.43-.59-.52 0-1.04.2-1.43.59L10.3 9.45l-7.72 7.72c-.78.78-.78 2.05 0 2.83L4 21.41c.39.39.9.59 1.41.59.51 0 1.02-.2 1.41-.59l7.78-7.78 2.81-2.81c.8-.78.8-2.07 0-2.86zM5.41 20L4 18.59l7.72-7.72 1.47 1.35L5.41 20z\"/>\n",
              "  </svg>\n",
              "      </button>\n",
              "      \n",
              "  <style>\n",
              "    .colab-df-container {\n",
              "      display:flex;\n",
              "      flex-wrap:wrap;\n",
              "      gap: 12px;\n",
              "    }\n",
              "\n",
              "    .colab-df-convert {\n",
              "      background-color: #E8F0FE;\n",
              "      border: none;\n",
              "      border-radius: 50%;\n",
              "      cursor: pointer;\n",
              "      display: none;\n",
              "      fill: #1967D2;\n",
              "      height: 32px;\n",
              "      padding: 0 0 0 0;\n",
              "      width: 32px;\n",
              "    }\n",
              "\n",
              "    .colab-df-convert:hover {\n",
              "      background-color: #E2EBFA;\n",
              "      box-shadow: 0px 1px 2px rgba(60, 64, 67, 0.3), 0px 1px 3px 1px rgba(60, 64, 67, 0.15);\n",
              "      fill: #174EA6;\n",
              "    }\n",
              "\n",
              "    [theme=dark] .colab-df-convert {\n",
              "      background-color: #3B4455;\n",
              "      fill: #D2E3FC;\n",
              "    }\n",
              "\n",
              "    [theme=dark] .colab-df-convert:hover {\n",
              "      background-color: #434B5C;\n",
              "      box-shadow: 0px 1px 3px 1px rgba(0, 0, 0, 0.15);\n",
              "      filter: drop-shadow(0px 1px 2px rgba(0, 0, 0, 0.3));\n",
              "      fill: #FFFFFF;\n",
              "    }\n",
              "  </style>\n",
              "\n",
              "      <script>\n",
              "        const buttonEl =\n",
              "          document.querySelector('#df-8b22a448-ba04-43c0-9490-7c30d10ae6ae button.colab-df-convert');\n",
              "        buttonEl.style.display =\n",
              "          google.colab.kernel.accessAllowed ? 'block' : 'none';\n",
              "\n",
              "        async function convertToInteractive(key) {\n",
              "          const element = document.querySelector('#df-8b22a448-ba04-43c0-9490-7c30d10ae6ae');\n",
              "          const dataTable =\n",
              "            await google.colab.kernel.invokeFunction('convertToInteractive',\n",
              "                                                     [key], {});\n",
              "          if (!dataTable) return;\n",
              "\n",
              "          const docLinkHtml = 'Like what you see? Visit the ' +\n",
              "            '<a target=\"_blank\" href=https://colab.research.google.com/notebooks/data_table.ipynb>data table notebook</a>'\n",
              "            + ' to learn more about interactive tables.';\n",
              "          element.innerHTML = '';\n",
              "          dataTable['output_type'] = 'display_data';\n",
              "          await google.colab.output.renderOutput(dataTable, element);\n",
              "          const docLink = document.createElement('div');\n",
              "          docLink.innerHTML = docLinkHtml;\n",
              "          element.appendChild(docLink);\n",
              "        }\n",
              "      </script>\n",
              "    </div>\n",
              "  </div>\n",
              "  "
            ]
          },
          "metadata": {},
          "execution_count": 13
        }
      ]
    },
    {
      "cell_type": "markdown",
      "source": [
        "This is a statistical descriptive of the numerical values of the features "
      ],
      "metadata": {
        "id": "2jY59JGlfZGc"
      }
    },
    {
      "cell_type": "code",
      "source": [],
      "metadata": {
        "id": "IaKJXMnAfVWp"
      },
      "execution_count": null,
      "outputs": []
    },
    {
      "cell_type": "markdown",
      "source": [
        "# Checking the Categorical features \n",
        "\n",
        "Check the categorical features are nominal, ordinal, or interval\n",
        "\n",
        "* Nominal datas are, have no intrinsic ordering.\n",
        "* Ordinal datas are, have an intrinsci ordering.\n",
        "*interval datas are, similar to ordinal, except intervals between the values of the numerical variable equally spaced"
      ],
      "metadata": {
        "id": "4wjepxoyftO-"
      }
    },
    {
      "cell_type": "code",
      "source": [
        "# Sex column\n",
        "df['SEX'].unique()"
      ],
      "metadata": {
        "colab": {
          "base_uri": "https://localhost:8080/"
        },
        "id": "W554XytJfxP1",
        "outputId": "1d16d4b9-0dde-44ad-93a1-4ba001d83d9e"
      },
      "execution_count": 15,
      "outputs": [
        {
          "output_type": "execute_result",
          "data": {
            "text/plain": [
              "['female', 'male']\n",
              "Categories (2, object): ['female', 'male']"
            ]
          },
          "metadata": {},
          "execution_count": 15
        }
      ]
    },
    {
      "cell_type": "markdown",
      "source": [
        "The sex column is a nominal category. Need to use OneHotEncoder to get dummies "
      ],
      "metadata": {
        "id": "WdGBqvC7hE1J"
      }
    },
    {
      "cell_type": "code",
      "source": [
        "#Union column\n",
        "df['UNION'].unique()"
      ],
      "metadata": {
        "colab": {
          "base_uri": "https://localhost:8080/"
        },
        "id": "QeF0TahCg9E9",
        "outputId": "1688026a-857c-47ff-98a4-b2336724f3f7"
      },
      "execution_count": 18,
      "outputs": [
        {
          "output_type": "execute_result",
          "data": {
            "text/plain": [
              "['not_member', 'member']\n",
              "Categories (2, object): ['member', 'not_member']"
            ]
          },
          "metadata": {},
          "execution_count": 18
        }
      ]
    },
    {
      "cell_type": "markdown",
      "source": [
        "Again the Union column is a nominal category. Need to use OneHotEncoder to get dummies"
      ],
      "metadata": {
        "id": "UexDqPIWhi7m"
      }
    },
    {
      "cell_type": "code",
      "source": [
        "#Race column\n",
        "df['RACE'].unique()"
      ],
      "metadata": {
        "colab": {
          "base_uri": "https://localhost:8080/"
        },
        "id": "-K3SqzSkhQ-x",
        "outputId": "2e09d265-f9e1-474c-fb2e-3a82d497ac50"
      },
      "execution_count": 20,
      "outputs": [
        {
          "output_type": "execute_result",
          "data": {
            "text/plain": [
              "['Hispanic', 'White', 'Other']\n",
              "Categories (3, object): ['Hispanic', 'Other', 'White']"
            ]
          },
          "metadata": {},
          "execution_count": 20
        }
      ]
    },
    {
      "cell_type": "markdown",
      "source": [
        "Again the Racecolumn is a nominal category. Need to use OneHotEncoder to get dummies"
      ],
      "metadata": {
        "id": "oadvc3xeh7WQ"
      }
    },
    {
      "cell_type": "code",
      "source": [
        "#Occupation column\n",
        "df['OCCUPATION'].unique()"
      ],
      "metadata": {
        "colab": {
          "base_uri": "https://localhost:8080/"
        },
        "id": "Qk-Ij09ahRA-",
        "outputId": "3e898cb2-ab0c-497a-cd93-02abb8de40e2"
      },
      "execution_count": 21,
      "outputs": [
        {
          "output_type": "execute_result",
          "data": {
            "text/plain": [
              "['Other', 'Management', 'Sales', 'Clerical', 'Service', 'Professional']\n",
              "Categories (6, object): ['Clerical', 'Management', 'Other', 'Professional', 'Sales', 'Service']"
            ]
          },
          "metadata": {},
          "execution_count": 21
        }
      ]
    },
    {
      "cell_type": "markdown",
      "source": [
        "The Occupation column is an ordinal column and I use OrdinalEncoder"
      ],
      "metadata": {
        "id": "53Hm2zeQiuXj"
      }
    },
    {
      "cell_type": "code",
      "source": [
        "#Sector column\n",
        "df['SECTOR'].unique()"
      ],
      "metadata": {
        "colab": {
          "base_uri": "https://localhost:8080/"
        },
        "id": "bqzd589YhRDR",
        "outputId": "036efbd2-5144-4feb-d2b9-e8611f61f9d9"
      },
      "execution_count": 22,
      "outputs": [
        {
          "output_type": "execute_result",
          "data": {
            "text/plain": [
              "['Manufacturing', 'Other', 'Construction']\n",
              "Categories (3, object): ['Construction', 'Manufacturing', 'Other']"
            ]
          },
          "metadata": {},
          "execution_count": 22
        }
      ]
    },
    {
      "cell_type": "code",
      "source": [
        "df['MARR'].unique()"
      ],
      "metadata": {
        "colab": {
          "base_uri": "https://localhost:8080/"
        },
        "id": "x8Rs3fBKhRGr",
        "outputId": "92ae35fd-ed54-4149-afde-8b24b87582df"
      },
      "execution_count": 23,
      "outputs": [
        {
          "output_type": "execute_result",
          "data": {
            "text/plain": [
              "['Married', 'Unmarried']\n",
              "Categories (2, object): ['Married', 'Unmarried']"
            ]
          },
          "metadata": {},
          "execution_count": 23
        }
      ]
    },
    {
      "cell_type": "markdown",
      "source": [
        "MARR is a nominal column"
      ],
      "metadata": {
        "id": "W2YC7QQkjEHL"
      }
    },
    {
      "cell_type": "code",
      "source": [
        "df['SOUTH'].unique()"
      ],
      "metadata": {
        "colab": {
          "base_uri": "https://localhost:8080/"
        },
        "id": "wfvaUYJkhSNI",
        "outputId": "37fdd5fa-670b-4b30-961a-920fd3d1ff43"
      },
      "execution_count": 24,
      "outputs": [
        {
          "output_type": "execute_result",
          "data": {
            "text/plain": [
              "['no', 'yes']\n",
              "Categories (2, object): ['no', 'yes']"
            ]
          },
          "metadata": {},
          "execution_count": 24
        }
      ]
    },
    {
      "cell_type": "markdown",
      "source": [
        "SOUTH is a nominal column"
      ],
      "metadata": {
        "id": "Xr3J9tywjMdN"
      }
    },
    {
      "cell_type": "code",
      "source": [
        "df.columns"
      ],
      "metadata": {
        "colab": {
          "base_uri": "https://localhost:8080/"
        },
        "id": "pPuCl_NPj2ZW",
        "outputId": "3708a6ef-d3b2-45f0-e6bf-a963f58105b6"
      },
      "execution_count": 28,
      "outputs": [
        {
          "output_type": "execute_result",
          "data": {
            "text/plain": [
              "Index(['EDUCATION', 'SOUTH', 'SEX', 'EXPERIENCE', 'UNION', 'WAGE', 'AGE',\n",
              "       'RACE', 'OCCUPATION', 'SECTOR', 'MARR'],\n",
              "      dtype='object')"
            ]
          },
          "metadata": {},
          "execution_count": 28
        }
      ]
    },
    {
      "cell_type": "code",
      "source": [
        "#list of categorical features \n",
        "nominal_column=['SOUTH', 'SEX', 'UNION','RACE','MARR']\n",
        "ordinal_column=['OCCUPATION']"
      ],
      "metadata": {
        "id": "BZoPuEOejB6-"
      },
      "execution_count": 29,
      "outputs": []
    },
    {
      "cell_type": "markdown",
      "source": [
        "# checking missing values"
      ],
      "metadata": {
        "id": "3tH8vhwZj_C2"
      }
    },
    {
      "cell_type": "code",
      "source": [
        "#to check missing value, used the isnull() function\n",
        "df.isnull().sum()"
      ],
      "metadata": {
        "colab": {
          "base_uri": "https://localhost:8080/"
        },
        "id": "Y7YEuFGJjW3N",
        "outputId": "201bd1b8-b291-4d39-9d22-231716433e54"
      },
      "execution_count": 31,
      "outputs": [
        {
          "output_type": "execute_result",
          "data": {
            "text/plain": [
              "EDUCATION     0\n",
              "SOUTH         0\n",
              "SEX           0\n",
              "EXPERIENCE    0\n",
              "UNION         0\n",
              "WAGE          0\n",
              "AGE           0\n",
              "RACE          0\n",
              "OCCUPATION    0\n",
              "SECTOR        0\n",
              "MARR          0\n",
              "dtype: int64"
            ]
          },
          "metadata": {},
          "execution_count": 31
        }
      ]
    },
    {
      "cell_type": "markdown",
      "source": [
        "By using isnull to check a missing values,I donot get any missing values"
      ],
      "metadata": {
        "id": "uqBQ9SCXkWcq"
      }
    },
    {
      "cell_type": "code",
      "source": [],
      "metadata": {
        "id": "vLRzkA2pjYLo"
      },
      "execution_count": null,
      "outputs": []
    },
    {
      "cell_type": "markdown",
      "source": [
        "# Data Visualization"
      ],
      "metadata": {
        "id": "68JfQFc7kVZv"
      }
    },
    {
      "cell_type": "markdown",
      "source": [
        "#Seaborn plots"
      ],
      "metadata": {
        "id": "uiCXhG-W3cux"
      }
    },
    {
      "cell_type": "code",
      "source": [
        "#Used pairplot to see all datas\n",
        "sns.pairplot(df)"
      ],
      "metadata": {
        "colab": {
          "base_uri": "https://localhost:8080/",
          "height": 743
        },
        "id": "K00SXeDWkj02",
        "outputId": "6e08621c-b93d-4737-d6d7-9754fd8d49c6"
      },
      "execution_count": 32,
      "outputs": [
        {
          "output_type": "execute_result",
          "data": {
            "text/plain": [
              "<seaborn.axisgrid.PairGrid at 0x7ff9b1de1190>"
            ]
          },
          "metadata": {},
          "execution_count": 32
        },
        {
          "output_type": "display_data",
          "data": {
            "text/plain": [
              "<Figure size 720x720 with 20 Axes>"
            ],
            "image/png": "[encoded data removed]"
          },
          "metadata": {
            "needs_background": "light"
          }
        }
      ]
    },
    {
      "cell_type": "markdown",
      "source": [
        "From the seaborn pairplot, the AGE and EXIRIENCE have a strong correlation. And others have a no strong correlation to each other,"
      ],
      "metadata": {
        "id": "XgCF1cHrk8ct"
      }
    },
    {
      "cell_type": "code",
      "source": [
        "# seaborn joint plot\n",
        "sns.jointplot(data=df, x='AGE',y='EXPERIENCE', kind='reg')"
      ],
      "metadata": {
        "colab": {
          "base_uri": "https://localhost:8080/",
          "height": 458
        },
        "id": "bz_tTNJJk27a",
        "outputId": "93356f5c-0759-4516-b381-80d1a1d212e9"
      },
      "execution_count": 33,
      "outputs": [
        {
          "output_type": "execute_result",
          "data": {
            "text/plain": [
              "<seaborn.axisgrid.JointGrid at 0x7ff9aed33cd0>"
            ]
          },
          "metadata": {},
          "execution_count": 33
        },
        {
          "output_type": "display_data",
          "data": {
            "text/plain": [
              "<Figure size 432x432 with 3 Axes>"
            ],
            "image/png": "[encoded data removed]"
          },
          "metadata": {
            "needs_background": "light"
          }
        }
      ]
    },
    {
      "cell_type": "code",
      "source": [],
      "metadata": {
        "id": "UVA9ugFbly1b"
      },
      "execution_count": 120,
      "outputs": []
    },
    {
      "cell_type": "markdown",
      "source": [
        "# Histogram for wage to different logarthnic functions, AGE, and Experience"
      ],
      "metadata": {
        "id": "F9PLZ2OC11WL"
      }
    },
    {
      "cell_type": "code",
      "source": [
        "#histogram of the wages\n",
        "sns.distplot(df['WAGE'], bins=20, kde=False,color='Blue')"
      ],
      "metadata": {
        "colab": {
          "base_uri": "https://localhost:8080/",
          "height": 386
        },
        "id": "DyF7PbLcl6-a",
        "outputId": "e8df78da-73e3-4356-80f6-bfcc9806ffd1"
      },
      "execution_count": 120,
      "outputs": [
        {
          "output_type": "stream",
          "name": "stderr",
          "text": [
            "/usr/local/lib/python3.7/dist-packages/seaborn/distributions.py:2619: FutureWarning:\n",
            "\n",
            "`distplot` is a deprecated function and will be removed in a future version. Please adapt your code to use either `displot` (a figure-level function with similar flexibility) or `histplot` (an axes-level function for histograms).\n",
            "\n"
          ]
        },
        {
          "output_type": "execute_result",
          "data": {
            "text/plain": [
              "<matplotlib.axes._subplots.AxesSubplot at 0x7ff9a7d36310>"
            ]
          },
          "metadata": {},
          "execution_count": 120
        },
        {
          "output_type": "display_data",
          "data": {
            "text/plain": [
              "<Figure size 432x288 with 1 Axes>"
            ],
            "image/png": "[encoded data removed]"
          },
          "metadata": {
            "needs_background": "light"
          }
        }
      ]
    },
    {
      "cell_type": "code",
      "source": [
        "import math"
      ],
      "metadata": {
        "id": "oGUV_sIatGwx"
      },
      "execution_count": 74,
      "outputs": []
    },
    {
      "cell_type": "code",
      "source": [
        "df['WAGE']"
      ],
      "metadata": {
        "colab": {
          "base_uri": "https://localhost:8080/"
        },
        "id": "zlxsDdg4tPRk",
        "outputId": "a6355ffb-3ab1-4150-b872-3f10edaf0af8"
      },
      "execution_count": 75,
      "outputs": [
        {
          "output_type": "execute_result",
          "data": {
            "text/plain": [
              "0       5.10\n",
              "1       4.95\n",
              "2       6.67\n",
              "3       4.00\n",
              "4       7.50\n",
              "       ...  \n",
              "529    11.36\n",
              "530     6.10\n",
              "531    23.25\n",
              "532    19.88\n",
              "533    15.38\n",
              "Name: WAGE, Length: 534, dtype: float64"
            ]
          },
          "metadata": {},
          "execution_count": 75
        }
      ]
    },
    {
      "cell_type": "code",
      "source": [
        "df_log=np.log1p(df['WAGE'])\n",
        "df_log"
      ],
      "metadata": {
        "colab": {
          "base_uri": "https://localhost:8080/"
        },
        "id": "e0FKPGy5tGzB",
        "outputId": "3ed351ae-a184-480e-cfa4-c1e70ff356c8"
      },
      "execution_count": 76,
      "outputs": [
        {
          "output_type": "execute_result",
          "data": {
            "text/plain": [
              "0      1.808289\n",
              "1      1.783391\n",
              "2      2.037317\n",
              "3      1.609438\n",
              "4      2.140066\n",
              "         ...   \n",
              "529    2.514465\n",
              "530    1.960095\n",
              "531    3.188417\n",
              "532    3.038792\n",
              "533    2.796061\n",
              "Name: WAGE, Length: 534, dtype: float64"
            ]
          },
          "metadata": {},
          "execution_count": 76
        }
      ]
    },
    {
      "cell_type": "code",
      "source": [
        "np.exp(df_log)"
      ],
      "metadata": {
        "colab": {
          "base_uri": "https://localhost:8080/"
        },
        "id": "-C7JTriTtG2u",
        "outputId": "3550e672-c196-4b85-e299-0bf09ad46448"
      },
      "execution_count": 77,
      "outputs": [
        {
          "output_type": "execute_result",
          "data": {
            "text/plain": [
              "0       6.10\n",
              "1       5.95\n",
              "2       7.67\n",
              "3       5.00\n",
              "4       8.50\n",
              "       ...  \n",
              "529    12.36\n",
              "530     7.10\n",
              "531    24.25\n",
              "532    20.88\n",
              "533    16.38\n",
              "Name: WAGE, Length: 534, dtype: float64"
            ]
          },
          "metadata": {},
          "execution_count": 77
        }
      ]
    },
    {
      "cell_type": "code",
      "source": [
        "#log1p\n",
        "#The log1p () function computes the value of log (1+x) accurately even for tiny argument x.\n",
        "fig, ax =plt.subplots(nrows=1,ncols=2, figsize=(15,5))\n",
        "\n",
        "ax[0].hist(df['WAGE'])\n",
        "ax[0].set_title('Original wages column')\n",
        "ax[0].grid()\n",
        "ax[0].set_ylabel('Wages')\n",
        "\n",
        "\n",
        "ax[1].hist(np.log1p(df['WAGE']))\n",
        "ax[1].grid()\n",
        "ax[1].set_title('Logarithm of wages column')\n",
        "ax[1].set_ylabel('Logarthmic Wages')"
      ],
      "metadata": {
        "colab": {
          "base_uri": "https://localhost:8080/",
          "height": 353
        },
        "id": "agE7GGf4ozvK",
        "outputId": "96d42b21-db7c-4ccc-9fca-673d7e950748"
      },
      "execution_count": 52,
      "outputs": [
        {
          "output_type": "execute_result",
          "data": {
            "text/plain": [
              "Text(0, 0.5, 'Logarthmic Wages')"
            ]
          },
          "metadata": {},
          "execution_count": 52
        },
        {
          "output_type": "display_data",
          "data": {
            "text/plain": [
              "<Figure size 1080x360 with 2 Axes>"
            ],
            "image/png": "[encoded data removed]"
          },
          "metadata": {
            "needs_background": "light"
          }
        }
      ]
    },
    {
      "cell_type": "code",
      "source": [
        "#log\n",
        "fig, ax =plt.subplots(nrows=1,ncols=2, figsize=(15,5))\n",
        "\n",
        "ax[0].hist(df['WAGE'])\n",
        "ax[0].set_title('Original wages column')\n",
        "ax[0].grid()\n",
        "ax[0].set_ylabel('Wages')\n",
        "\n",
        "\n",
        "ax[1].hist(np.log(df['WAGE']))\n",
        "ax[1].grid()\n",
        "ax[1].set_title('Logarithm of wages column')\n",
        "ax[1].set_ylabel('Logarthmic Wages')"
      ],
      "metadata": {
        "colab": {
          "base_uri": "https://localhost:8080/",
          "height": 353
        },
        "id": "lQlJIz32qnRY",
        "outputId": "ec84f5a9-f6ec-4629-c844-2f4c4e5742d6"
      },
      "execution_count": 53,
      "outputs": [
        {
          "output_type": "execute_result",
          "data": {
            "text/plain": [
              "Text(0, 0.5, 'Logarthmic Wages')"
            ]
          },
          "metadata": {},
          "execution_count": 53
        },
        {
          "output_type": "display_data",
          "data": {
            "text/plain": [
              "<Figure size 1080x360 with 2 Axes>"
            ],
            "image/png": "[encoded data removed]"
          },
          "metadata": {
            "needs_background": "light"
          }
        }
      ]
    },
    {
      "cell_type": "code",
      "source": [
        "#log10\n",
        "fig, ax =plt.subplots(nrows=1,ncols=2, figsize=(15,5))\n",
        "\n",
        "ax[0].hist(df['WAGE'])\n",
        "ax[0].set_title('Original wages column')\n",
        "ax[0].grid()\n",
        "ax[0].set_ylabel('Wages')\n",
        "\n",
        "\n",
        "ax[1].hist(np.log10(df['WAGE']))\n",
        "ax[1].grid()\n",
        "ax[1].set_title('Logarithm of wages column')\n",
        "ax[1].set_ylabel('Logarthmic Wages')"
      ],
      "metadata": {
        "colab": {
          "base_uri": "https://localhost:8080/",
          "height": 353
        },
        "id": "eGlyxggSq7kJ",
        "outputId": "67a9365c-64a6-4fff-a0d7-8b5b11444aa5"
      },
      "execution_count": 54,
      "outputs": [
        {
          "output_type": "execute_result",
          "data": {
            "text/plain": [
              "Text(0, 0.5, 'Logarthmic Wages')"
            ]
          },
          "metadata": {},
          "execution_count": 54
        },
        {
          "output_type": "display_data",
          "data": {
            "text/plain": [
              "<Figure size 1080x360 with 2 Axes>"
            ],
            "image/png": "[encoded data removed]"
          },
          "metadata": {
            "needs_background": "light"
          }
        }
      ]
    },
    {
      "cell_type": "code",
      "source": [
        "# AGES\n",
        "#log\n",
        "fig, ax =plt.subplots(nrows=1,ncols=2, figsize=(15,5))\n",
        "\n",
        "ax[0].hist(df['AGE'])\n",
        "ax[0].set_title('Original AGE column')\n",
        "ax[0].grid()\n",
        "ax[0].set_ylabel('AGE')\n",
        "\n",
        "\n",
        "ax[1].hist(np.log(df['AGE']))\n",
        "ax[1].grid()\n",
        "ax[1].set_title('Logarithm of AGE column')\n",
        "ax[1].set_ylabel('Logarthmic AGE')"
      ],
      "metadata": {
        "colab": {
          "base_uri": "https://localhost:8080/",
          "height": 353
        },
        "id": "wDxNf1w-wPAI",
        "outputId": "0deea660-b7f1-438d-dad1-7b57027066cb"
      },
      "execution_count": 94,
      "outputs": [
        {
          "output_type": "execute_result",
          "data": {
            "text/plain": [
              "Text(0, 0.5, 'Logarthmic AGE')"
            ]
          },
          "metadata": {},
          "execution_count": 94
        },
        {
          "output_type": "display_data",
          "data": {
            "text/plain": [
              "<Figure size 1080x360 with 2 Axes>"
            ],
            "image/png": "[encoded data removed]"
          },
          "metadata": {
            "needs_background": "light"
          }
        }
      ]
    },
    {
      "cell_type": "code",
      "source": [
        "#Excperience histogram\n",
        "plt.hist(df['EXPERIENCE'])\n",
        "plt.ylabel('EXPERIENCE')\n",
        "plt.title('Experience data set')"
      ],
      "metadata": {
        "colab": {
          "base_uri": "https://localhost:8080/",
          "height": 298
        },
        "id": "aAwRIld_wPPZ",
        "outputId": "3d15f262-07e7-4118-872b-cef93f0c1f3c"
      },
      "execution_count": 103,
      "outputs": [
        {
          "output_type": "execute_result",
          "data": {
            "text/plain": [
              "Text(0.5, 1.0, 'Experience data set')"
            ]
          },
          "metadata": {},
          "execution_count": 103
        },
        {
          "output_type": "display_data",
          "data": {
            "text/plain": [
              "<Figure size 432x288 with 1 Axes>"
            ],
            "image/png": "[encoded data removed]"
          },
          "metadata": {
            "needs_background": "light"
          }
        }
      ]
    },
    {
      "cell_type": "code",
      "source": [],
      "metadata": {
        "id": "ThKi56jtq_MH"
      },
      "execution_count": 94,
      "outputs": []
    },
    {
      "cell_type": "markdown",
      "source": [
        "#barplots"
      ],
      "metadata": {
        "id": "6vUKjE5l2Hpp"
      }
    },
    {
      "cell_type": "code",
      "source": [
        "# barplot to determine the number of females and males \n",
        "df['SEX'].value_counts()\n",
        "sns.barplot(x=df['SEX'].unique(),y=df['SEX'].value_counts())"
      ],
      "metadata": {
        "colab": {
          "base_uri": "https://localhost:8080/",
          "height": 284
        },
        "id": "jaB8P71droPg",
        "outputId": "f219eae6-a7a0-4be8-e04a-97bcdea0efad"
      },
      "execution_count": 93,
      "outputs": [
        {
          "output_type": "execute_result",
          "data": {
            "text/plain": [
              "<matplotlib.axes._subplots.AxesSubplot at 0x7ff9a885c5d0>"
            ]
          },
          "metadata": {},
          "execution_count": 93
        },
        {
          "output_type": "display_data",
          "data": {
            "text/plain": [
              "<Figure size 432x288 with 1 Axes>"
            ],
            "image/png": "[encoded data removed]"
          },
          "metadata": {
            "needs_background": "light"
          }
        }
      ]
    },
    {
      "cell_type": "markdown",
      "source": [
        "From the bar plot above, the number of Female (289) is more than number of male (245)."
      ],
      "metadata": {
        "id": "LuAD8RJozGFS"
      }
    },
    {
      "cell_type": "code",
      "source": [
        "#RACE\n",
        "sns.barplot(x=df['RACE'].unique(),y=df['RACE'].value_counts())"
      ],
      "metadata": {
        "colab": {
          "base_uri": "https://localhost:8080/",
          "height": 282
        },
        "id": "klbM4qQPyEFE",
        "outputId": "5dc63808-6bb2-4e8a-a0e7-136a3ed9250a"
      },
      "execution_count": 102,
      "outputs": [
        {
          "output_type": "execute_result",
          "data": {
            "text/plain": [
              "<matplotlib.axes._subplots.AxesSubplot at 0x7ff9a8e84390>"
            ]
          },
          "metadata": {},
          "execution_count": 102
        },
        {
          "output_type": "display_data",
          "data": {
            "text/plain": [
              "<Figure size 432x288 with 1 Axes>"
            ],
            "image/png": "[encoded data removed]"
          },
          "metadata": {
            "needs_background": "light"
          }
        }
      ]
    },
    {
      "cell_type": "code",
      "source": [],
      "metadata": {
        "id": "lrS-E32uyVNY"
      },
      "execution_count": 104,
      "outputs": []
    },
    {
      "cell_type": "code",
      "source": [
        "#MARR barplots\n",
        "sns.barplot(x=df['MARR'].unique(),y=df['MARR'].value_counts())"
      ],
      "metadata": {
        "colab": {
          "base_uri": "https://localhost:8080/",
          "height": 282
        },
        "id": "RDHAinMzyVPy",
        "outputId": "37480915-52b2-4389-e565-1bb74bb1ea1f"
      },
      "execution_count": 106,
      "outputs": [
        {
          "output_type": "execute_result",
          "data": {
            "text/plain": [
              "<matplotlib.axes._subplots.AxesSubplot at 0x7ff9a83a22d0>"
            ]
          },
          "metadata": {},
          "execution_count": 106
        },
        {
          "output_type": "display_data",
          "data": {
            "text/plain": [
              "<Figure size 432x288 with 1 Axes>"
            ],
            "image/png": "[encoded data removed]"
          },
          "metadata": {
            "needs_background": "light"
          }
        }
      ]
    },
    {
      "cell_type": "code",
      "source": [
        "#Experience barplots\n",
        "sns.barplot(x=df['OCCUPATION'].unique(),y=df['OCCUPATION'].value_counts())"
      ],
      "metadata": {
        "colab": {
          "base_uri": "https://localhost:8080/",
          "height": 282
        },
        "id": "iSiI45XTyVTa",
        "outputId": "3a5dbb26-1a02-4844-9392-009f66970cfe"
      },
      "execution_count": 107,
      "outputs": [
        {
          "output_type": "execute_result",
          "data": {
            "text/plain": [
              "<matplotlib.axes._subplots.AxesSubplot at 0x7ff9a8381550>"
            ]
          },
          "metadata": {},
          "execution_count": 107
        },
        {
          "output_type": "display_data",
          "data": {
            "text/plain": [
              "<Figure size 432x288 with 1 Axes>"
            ],
            "image/png": "[encoded data removed]"
          },
          "metadata": {
            "needs_background": "light"
          }
        }
      ]
    },
    {
      "cell_type": "markdown",
      "source": [
        "From the above boxplot, the averages age of a Famel is around 35 and for male around 33."
      ],
      "metadata": {
        "id": "QGTKu4z7wk3g"
      }
    },
    {
      "cell_type": "code",
      "source": [],
      "metadata": {
        "id": "BZAfcThuswKp"
      },
      "execution_count": 205,
      "outputs": []
    },
    {
      "cell_type": "markdown",
      "source": [
        "#Boxplot"
      ],
      "metadata": {
        "id": "fK0EaFof0n5o"
      }
    },
    {
      "cell_type": "code",
      "source": [
        "#WAGE boxplot\n",
        "sns.boxplot(y=df['WAGE'])"
      ],
      "metadata": {
        "colab": {
          "base_uri": "https://localhost:8080/",
          "height": 269
        },
        "id": "w4mI68pZ0mjT",
        "outputId": "10c05ef5-8dff-43fd-938d-4e361456e9cc"
      },
      "execution_count": 121,
      "outputs": [
        {
          "output_type": "execute_result",
          "data": {
            "text/plain": [
              "<matplotlib.axes._subplots.AxesSubplot at 0x7ff9a7c7ead0>"
            ]
          },
          "metadata": {},
          "execution_count": 121
        },
        {
          "output_type": "display_data",
          "data": {
            "text/plain": [
              "<Figure size 432x288 with 1 Axes>"
            ],
            "image/png": "[encoded data removed]"
          },
          "metadata": {
            "needs_background": "light"
          }
        }
      ]
    },
    {
      "cell_type": "code",
      "source": [
        "# WAGE boxplots\n",
        "sns.boxplot(data=df, y='WAGE',x='SEX', hue='SEX')"
      ],
      "metadata": {
        "colab": {
          "base_uri": "https://localhost:8080/",
          "height": 296
        },
        "id": "EH7UNmL50mmy",
        "outputId": "4c2b91af-de40-45bf-c29b-41a971e1f79a"
      },
      "execution_count": 117,
      "outputs": [
        {
          "output_type": "execute_result",
          "data": {
            "text/plain": [
              "<matplotlib.axes._subplots.AxesSubplot at 0x7ff9a7ec9510>"
            ]
          },
          "metadata": {},
          "execution_count": 117
        },
        {
          "output_type": "display_data",
          "data": {
            "text/plain": [
              "<Figure size 432x288 with 1 Axes>"
            ],
            "image/png": "[encoded data removed]"
          },
          "metadata": {
            "needs_background": "light"
          }
        }
      ]
    },
    {
      "cell_type": "markdown",
      "source": [
        "The male sex have higher wage than the females."
      ],
      "metadata": {
        "id": "XykDOT_x1ITI"
      }
    },
    {
      "cell_type": "code",
      "source": [
        "#boxplots\n",
        "sns.boxplot(data=df, y='WAGE',x='RACE', hue='SEX')"
      ],
      "metadata": {
        "colab": {
          "base_uri": "https://localhost:8080/",
          "height": 296
        },
        "id": "P8UVbzMX1IwT",
        "outputId": "007dcaec-94ef-4359-f820-a531774b12dd"
      },
      "execution_count": 118,
      "outputs": [
        {
          "output_type": "execute_result",
          "data": {
            "text/plain": [
              "<matplotlib.axes._subplots.AxesSubplot at 0x7ff9a7e56150>"
            ]
          },
          "metadata": {},
          "execution_count": 118
        },
        {
          "output_type": "display_data",
          "data": {
            "text/plain": [
              "<Figure size 432x288 with 1 Axes>"
            ],
            "image/png": "[encoded data removed]"
          },
          "metadata": {
            "needs_background": "light"
          }
        }
      ]
    },
    {
      "cell_type": "markdown",
      "source": [
        "from the boxplot above, the white Race are get higher wages than the others in both sex and Hispanic less than any other Races"
      ],
      "metadata": {
        "id": "K6C_yrDQ1Pno"
      }
    },
    {
      "cell_type": "code",
      "source": [
        "#AGE boxplot\n",
        "sns.boxplot(y=df['AGE'])"
      ],
      "metadata": {
        "colab": {
          "base_uri": "https://localhost:8080/",
          "height": 269
        },
        "id": "SE4P1TEd1Izc",
        "outputId": "9d88090f-0ed4-41ea-923c-e4391f8a725f"
      },
      "execution_count": 122,
      "outputs": [
        {
          "output_type": "execute_result",
          "data": {
            "text/plain": [
              "<matplotlib.axes._subplots.AxesSubplot at 0x7ff9a7bf5b10>"
            ]
          },
          "metadata": {},
          "execution_count": 122
        },
        {
          "output_type": "display_data",
          "data": {
            "text/plain": [
              "<Figure size 432x288 with 1 Axes>"
            ],
            "image/png": "[encoded data removed]"
          },
          "metadata": {
            "needs_background": "light"
          }
        }
      ]
    },
    {
      "cell_type": "code",
      "source": [
        "# AGE boxplots\n",
        "sns.boxplot(data=df, y='AGE',x='SEX', hue='SEX')"
      ],
      "metadata": {
        "colab": {
          "base_uri": "https://localhost:8080/",
          "height": 296
        },
        "id": "Dv0dGaYB3STy",
        "outputId": "e32e2372-d2b6-4788-9730-59c364a80d70"
      },
      "execution_count": 123,
      "outputs": [
        {
          "output_type": "execute_result",
          "data": {
            "text/plain": [
              "<matplotlib.axes._subplots.AxesSubplot at 0x7ff9a7bdbd50>"
            ]
          },
          "metadata": {},
          "execution_count": 123
        },
        {
          "output_type": "display_data",
          "data": {
            "text/plain": [
              "<Figure size 432x288 with 1 Axes>"
            ],
            "image/png": "[encoded data removed]"
          },
          "metadata": {
            "needs_background": "light"
          }
        }
      ]
    },
    {
      "cell_type": "code",
      "source": [
        "#boxplots\n",
        "sns.boxplot(data=df, y='AGE',x='RACE', hue='SEX')"
      ],
      "metadata": {
        "colab": {
          "base_uri": "https://localhost:8080/",
          "height": 296
        },
        "id": "AwMUGzbJ3SV-",
        "outputId": "300cebb8-8b2b-4a7e-f388-5797b73022c9"
      },
      "execution_count": 204,
      "outputs": [
        {
          "output_type": "execute_result",
          "data": {
            "text/plain": [
              "<matplotlib.axes._subplots.AxesSubplot at 0x7ff9a6f2b390>"
            ]
          },
          "metadata": {},
          "execution_count": 204
        },
        {
          "output_type": "display_data",
          "data": {
            "text/plain": [
              "<Figure size 432x288 with 1 Axes>"
            ],
            "image/png": "[encoded data removed]"
          },
          "metadata": {
            "needs_background": "light"
          }
        }
      ]
    },
    {
      "cell_type": "code",
      "source": [
        "#boxplots\n",
        "sns.boxplot(data=df, y='AGE',x='MARR', hue='SEX')"
      ],
      "metadata": {
        "colab": {
          "base_uri": "https://localhost:8080/",
          "height": 296
        },
        "id": "aG-sqvpQpYhX",
        "outputId": "fb239072-0f4b-4a06-e437-e439b02d1045"
      },
      "execution_count": 205,
      "outputs": [
        {
          "output_type": "execute_result",
          "data": {
            "text/plain": [
              "<matplotlib.axes._subplots.AxesSubplot at 0x7ff9a6e71ad0>"
            ]
          },
          "metadata": {},
          "execution_count": 205
        },
        {
          "output_type": "display_data",
          "data": {
            "text/plain": [
              "<Figure size 432x288 with 1 Axes>"
            ],
            "image/png": "[encoded data removed]"
          },
          "metadata": {
            "needs_background": "light"
          }
        }
      ]
    },
    {
      "cell_type": "code",
      "source": [
        "#Experience boxplot\n",
        "sns.boxplot(y=df['EXPERIENCE'])"
      ],
      "metadata": {
        "colab": {
          "base_uri": "https://localhost:8080/",
          "height": 269
        },
        "id": "fSmeIuwD3SYc",
        "outputId": "3efdbb76-d761-4a5e-b532-7a7a19111834"
      },
      "execution_count": 125,
      "outputs": [
        {
          "output_type": "execute_result",
          "data": {
            "text/plain": [
              "<matplotlib.axes._subplots.AxesSubplot at 0x7ff9a7a5b890>"
            ]
          },
          "metadata": {},
          "execution_count": 125
        },
        {
          "output_type": "display_data",
          "data": {
            "text/plain": [
              "<Figure size 432x288 with 1 Axes>"
            ],
            "image/png": "[encoded data removed]"
          },
          "metadata": {
            "needs_background": "light"
          }
        }
      ]
    },
    {
      "cell_type": "code",
      "source": [
        "# EXPERIENCE boxplots\n",
        "sns.boxplot(data=df, y='EXPERIENCE',x='SEX', hue='SEX')"
      ],
      "metadata": {
        "colab": {
          "base_uri": "https://localhost:8080/",
          "height": 296
        },
        "id": "cfkMcibM3SbG",
        "outputId": "c1e664d1-5aa9-4826-abbb-0ceea3c97bb6"
      },
      "execution_count": 126,
      "outputs": [
        {
          "output_type": "execute_result",
          "data": {
            "text/plain": [
              "<matplotlib.axes._subplots.AxesSubplot at 0x7ff9a79c6910>"
            ]
          },
          "metadata": {},
          "execution_count": 126
        },
        {
          "output_type": "display_data",
          "data": {
            "text/plain": [
              "<Figure size 432x288 with 1 Axes>"
            ],
            "image/png": "[encoded data removed]"
          },
          "metadata": {
            "needs_background": "light"
          }
        }
      ]
    },
    {
      "cell_type": "code",
      "source": [
        "#boxplots\n",
        "sns.boxplot(data=df, y='EXPERIENCE',x='RACE', hue='SEX')"
      ],
      "metadata": {
        "colab": {
          "base_uri": "https://localhost:8080/",
          "height": 296
        },
        "id": "zabgWEe33SeT",
        "outputId": "45dea5e6-21c6-42f7-e3f3-a17e67cbab9c"
      },
      "execution_count": 127,
      "outputs": [
        {
          "output_type": "execute_result",
          "data": {
            "text/plain": [
              "<matplotlib.axes._subplots.AxesSubplot at 0x7ff9a78df450>"
            ]
          },
          "metadata": {},
          "execution_count": 127
        },
        {
          "output_type": "display_data",
          "data": {
            "text/plain": [
              "<Figure size 432x288 with 1 Axes>"
            ],
            "image/png": "[encoded data removed]"
          },
          "metadata": {
            "needs_background": "light"
          }
        }
      ]
    },
    {
      "cell_type": "markdown",
      "source": [
        "Eventhough, the hispanic, and other than white people are more experienced, the white people, still the white people are get more wages."
      ],
      "metadata": {
        "id": "z5aTSyxC4KB3"
      }
    },
    {
      "cell_type": "markdown",
      "source": [
        "#seaborn violinplot"
      ],
      "metadata": {
        "id": "azjV1h3U45EC"
      }
    },
    {
      "cell_type": "code",
      "source": [
        "#WAGE \n",
        "sns.violinplot(y= df['WAGE'])"
      ],
      "metadata": {
        "colab": {
          "base_uri": "https://localhost:8080/",
          "height": 269
        },
        "id": "cc2fMPnz43ZG",
        "outputId": "0419dd38-1dd2-4fed-a494-65c426a1ae9f"
      },
      "execution_count": 130,
      "outputs": [
        {
          "output_type": "execute_result",
          "data": {
            "text/plain": [
              "<matplotlib.axes._subplots.AxesSubplot at 0x7ff9a778a190>"
            ]
          },
          "metadata": {},
          "execution_count": 130
        },
        {
          "output_type": "display_data",
          "data": {
            "text/plain": [
              "<Figure size 432x288 with 1 Axes>"
            ],
            "image/png": "[encoded data removed]"
          },
          "metadata": {
            "needs_background": "light"
          }
        }
      ]
    },
    {
      "cell_type": "code",
      "source": [
        "# WAGE boxplots\n",
        "sns.violinplot(data=df, y='WAGE',x='SEX', hue='SEX')"
      ],
      "metadata": {
        "colab": {
          "base_uri": "https://localhost:8080/",
          "height": 300
        },
        "id": "C8AMv2cz43cm",
        "outputId": "8d68c6d8-2df9-4af8-bb70-4c22195650e1"
      },
      "execution_count": 131,
      "outputs": [
        {
          "output_type": "execute_result",
          "data": {
            "text/plain": [
              "<matplotlib.axes._subplots.AxesSubplot at 0x7ff9a76f2690>"
            ]
          },
          "metadata": {},
          "execution_count": 131
        },
        {
          "output_type": "display_data",
          "data": {
            "text/plain": [
              "<Figure size 432x288 with 1 Axes>"
            ],
            "image/png": "[encoded data removed]"
          },
          "metadata": {
            "needs_background": "light"
          }
        }
      ]
    },
    {
      "cell_type": "code",
      "source": [
        "#boxplots\n",
        "sns.violinplot(data=df, y='WAGE',x='RACE', hue='SEX')"
      ],
      "metadata": {
        "colab": {
          "base_uri": "https://localhost:8080/",
          "height": 298
        },
        "id": "rgMyo1z377Ld",
        "outputId": "8f973c6e-a56b-4c1e-d738-75a103af26a5"
      },
      "execution_count": 132,
      "outputs": [
        {
          "output_type": "execute_result",
          "data": {
            "text/plain": [
              "<matplotlib.axes._subplots.AxesSubplot at 0x7ff9a7678dd0>"
            ]
          },
          "metadata": {},
          "execution_count": 132
        },
        {
          "output_type": "display_data",
          "data": {
            "text/plain": [
              "<Figure size 432x288 with 1 Axes>"
            ],
            "image/png": "[encoded data removed]"
          },
          "metadata": {
            "needs_background": "light"
          }
        }
      ]
    },
    {
      "cell_type": "code",
      "source": [],
      "metadata": {
        "id": "02h4Kl9b77Oo"
      },
      "execution_count": null,
      "outputs": []
    },
    {
      "cell_type": "markdown",
      "source": [
        "# Seaborn Heatmap and clustermap"
      ],
      "metadata": {
        "id": "RN8kkuQV8Br8"
      }
    },
    {
      "cell_type": "code",
      "source": [
        "plt.figure(figsize=(10,4))\n",
        "sns.heatmap(df.corr(),annot=True)"
      ],
      "metadata": {
        "colab": {
          "base_uri": "https://localhost:8080/",
          "height": 286
        },
        "id": "H_veuZff77UC",
        "outputId": "63796aa1-3cdb-4d7d-c950-d3107693e2ed"
      },
      "execution_count": 137,
      "outputs": [
        {
          "output_type": "execute_result",
          "data": {
            "text/plain": [
              "<matplotlib.axes._subplots.AxesSubplot at 0x7ff9a96b7c90>"
            ]
          },
          "metadata": {},
          "execution_count": 137
        },
        {
          "output_type": "display_data",
          "data": {
            "text/plain": [
              "<Figure size 720x288 with 2 Axes>"
            ],
            "image/png": "[encoded data removed]"
          },
          "metadata": {
            "needs_background": "light"
          }
        }
      ]
    },
    {
      "cell_type": "markdown",
      "source": [
        "The AGE and EXPERIENCE have a very strong correlation 0.98."
      ],
      "metadata": {
        "id": "ZHrd7yKA9Hr-"
      }
    },
    {
      "cell_type": "code",
      "source": [
        "sns.clustermap(df.corr(), annot=True)"
      ],
      "metadata": {
        "colab": {
          "base_uri": "https://localhost:8080/",
          "height": 747
        },
        "id": "goejsVxq9W6b",
        "outputId": "992f0e1d-f283-44e9-efc9-fcaf9ee6b36b"
      },
      "execution_count": 139,
      "outputs": [
        {
          "output_type": "execute_result",
          "data": {
            "text/plain": [
              "<seaborn.matrix.ClusterGrid at 0x7ff9a72a1f10>"
            ]
          },
          "metadata": {},
          "execution_count": 139
        },
        {
          "output_type": "display_data",
          "data": {
            "text/plain": [
              "<Figure size 720x720 with 4 Axes>"
            ],
            "image/png": "[encoded data removed]"
          },
          "metadata": {
            "needs_background": "light"
          }
        }
      ]
    },
    {
      "cell_type": "code",
      "source": [],
      "metadata": {
        "id": "5p7phR5js0lC"
      },
      "execution_count": 139,
      "outputs": []
    },
    {
      "cell_type": "markdown",
      "source": [
        "# Prepare the data"
      ],
      "metadata": {
        "id": "0Z87Mr8y9mNQ"
      }
    },
    {
      "cell_type": "code",
      "source": [
        "X=df.drop(['SECTOR','OCCUPATION','WAGE'], axis=1)\n",
        "y=np.log1p(df['WAGE'])"
      ],
      "metadata": {
        "id": "r51XeQGQw4CS"
      },
      "execution_count": 151,
      "outputs": []
    },
    {
      "cell_type": "code",
      "source": [],
      "metadata": {
        "id": "DGm82j4a_1yD"
      },
      "execution_count": 151,
      "outputs": []
    },
    {
      "cell_type": "markdown",
      "source": [
        "# Splitting the data into train and test set"
      ],
      "metadata": {
        "id": "iWtD7-d--QQP"
      }
    },
    {
      "cell_type": "code",
      "source": [
        "X_train, X_test, y_train, y_test = train_test_split(X, y, test_size=0.3, random_state=42)"
      ],
      "metadata": {
        "id": "CxrLOC2v0G5y"
      },
      "execution_count": 152,
      "outputs": []
    },
    {
      "cell_type": "markdown",
      "source": [
        "# Creating a make_column_transformer"
      ],
      "metadata": {
        "id": "Rgj0ZzzcCEMM"
      }
    },
    {
      "cell_type": "code",
      "source": [
        "transformer=make_column_transformer((OneHotEncoder(sparse=False),nominal_column))"
      ],
      "metadata": {
        "id": "IJjylds59768"
      },
      "execution_count": 153,
      "outputs": []
    },
    {
      "cell_type": "code",
      "source": [],
      "metadata": {
        "id": "suIvrQ1YCDC9"
      },
      "execution_count": null,
      "outputs": []
    },
    {
      "cell_type": "markdown",
      "source": [
        "# First find the best polynomial degrees"
      ],
      "metadata": {
        "id": "ONhnHf7wAPNV"
      }
    },
    {
      "cell_type": "code",
      "source": [
        "train_mses=[]\n",
        "test_mses=[]\n",
        "for i in range(1,5):\n",
        "  pipe1=Pipeline(\n",
        "               steps=[('transformer',transformer),\n",
        "                      ('poly_feaures',PolynomialFeatures(degree=i,include_bias=False)),\n",
        "                      ('scaler',StandardScaler()),\n",
        "                      ('lr_model',LinearRegression())\n",
        "                                               ] \n",
        "\n",
        "                                               )\n",
        "  pipe1.fit(X_train,y_train)\n",
        "  train_preds1=pipe1.predict(X_train)\n",
        "  test_preds1=pipe1.predict(X_test)\n",
        "  train_mses.append(mean_squared_error(y_train,train_preds1))\n",
        "  test_mses.append(mean_squared_error(y_test,test_preds1))"
      ],
      "metadata": {
        "id": "sfABroDYBaz8"
      },
      "execution_count": 156,
      "outputs": []
    },
    {
      "cell_type": "code",
      "source": [
        "print(train_mses.index(min(train_mses)))\n",
        "print(test_mses.index(min(test_mses)))"
      ],
      "metadata": {
        "colab": {
          "base_uri": "https://localhost:8080/"
        },
        "id": "D_taqaaAGq6K",
        "outputId": "a6864eaa-5b6d-47e9-e617-2f7b7abdff84"
      },
      "execution_count": 157,
      "outputs": [
        {
          "output_type": "stream",
          "name": "stdout",
          "text": [
            "3\n",
            "0\n"
          ]
        }
      ]
    },
    {
      "cell_type": "markdown",
      "source": [
        "Degree 3 is the best model for our data"
      ],
      "metadata": {
        "id": "bX1FiO66HbOu"
      }
    },
    {
      "cell_type": "code",
      "source": [],
      "metadata": {
        "id": "Uvk9aX0eHZWl"
      },
      "execution_count": null,
      "outputs": []
    },
    {
      "cell_type": "markdown",
      "source": [
        "# Apply Ridge model"
      ],
      "metadata": {
        "id": "05-wzPqrHnhi"
      }
    },
    {
      "cell_type": "code",
      "source": [
        "ridge_pipe=Pipeline(\n",
        "               steps=[('transformer',transformer),\n",
        "                      ('poly_feaures',PolynomialFeatures(degree=3,include_bias=False)),\n",
        "                      ('scaler',StandardScaler()),\n",
        "                      ('ridge_model',Ridge())\n",
        "                                          ] \n",
        "\n",
        "                                        )\n",
        "ridge_pipe.fit(X_train,y_train)\n",
        "train_ridge_preds=ridge_pipe.predict(X_train)\n",
        "test_ridge_preds=ridge_pipe.predict(X_test)\n",
        "train_ridge_mses =mean_squared_error(y_train,train_ridge_preds)\n",
        "test_ridge_mses =mean_squared_error(y_test,test_ridge_preds)"
      ],
      "metadata": {
        "id": "4Ze3SQALHqDb"
      },
      "execution_count": 159,
      "outputs": []
    },
    {
      "cell_type": "code",
      "source": [
        "# Coeficients\n",
        "print(ridge_pipe.named_steps['ridge_model'].coef_)\n",
        "print(ridge_pipe.named_steps['ridge_model'].intercept_)"
      ],
      "metadata": {
        "colab": {
          "base_uri": "https://localhost:8080/"
        },
        "id": "f1JblF0SI1j_",
        "outputId": "06c80d84-a9be-40de-d5b2-5f385fd1d9d3"
      },
      "execution_count": 160,
      "outputs": [
        {
          "output_type": "stream",
          "name": "stdout",
          "text": [
            "[ 2.22787068e-03 -2.22787068e-03 -2.27916140e-03  2.27916140e-03\n",
            "  3.44506362e-03 -3.44506362e-03 -1.34221344e-03 -1.08636664e-03\n",
            "  1.72955702e-03  1.99589408e-03 -1.99589408e-03  2.22787068e-03\n",
            "  0.00000000e+00  2.03982231e-03  1.04109865e-04  2.95467758e-03\n",
            " -1.41904727e-04 -5.91470018e-04  1.50089087e-03  1.41572315e-03\n",
            "  6.50743636e-04  1.55865090e-03 -2.22787068e-03 -6.30252515e-03\n",
            "  2.95010316e-03  1.51861259e-03 -2.99634731e-03 -1.29587094e-03\n",
            " -3.49611447e-03 -2.66585095e-05  1.57254794e-03 -5.75665272e-03\n",
            " -2.27916140e-03  0.00000000e+00  1.74196147e-03 -3.13978140e-03\n",
            "  2.81879583e-03 -1.87130442e-03 -2.48180736e-03 -3.17057122e-03\n",
            "  9.02654213e-04  2.27916140e-03  2.78685442e-03  3.44462377e-04\n",
            " -4.86765793e-03  1.36450471e-04  3.79810750e-03  5.05354989e-03\n",
            " -3.19337408e-03  3.44506362e-03  0.00000000e+00  8.87979300e-03\n",
            " -1.10996595e-03  1.93933820e-03  3.58883883e-03  5.05170535e-04\n",
            " -3.44506362e-03 -5.86865459e-03 -5.08683214e-04  1.16666384e-05\n",
            " -6.04046107e-04 -2.33518887e-03 -1.34221344e-03  0.00000000e+00\n",
            "  0.00000000e+00 -3.69570509e-03  2.23362460e-03 -1.08636664e-03\n",
            "  0.00000000e+00  1.76421835e-03 -3.81880612e-03  1.72955702e-03\n",
            "  2.23820868e-03 -9.75678882e-04  1.99589408e-03  0.00000000e+00\n",
            " -1.99589408e-03  2.22787068e-03  0.00000000e+00  2.03982231e-03\n",
            "  1.04109865e-04  2.95467758e-03 -1.41904727e-04 -5.91470018e-04\n",
            "  1.50089087e-03  1.41572315e-03  6.50743636e-04  1.55865090e-03\n",
            "  0.00000000e+00  0.00000000e+00  0.00000000e+00  0.00000000e+00\n",
            "  0.00000000e+00  0.00000000e+00  0.00000000e+00  0.00000000e+00\n",
            "  0.00000000e+00  0.00000000e+00  2.03982231e-03  0.00000000e+00\n",
            " -6.30199849e-03  5.23971471e-03  1.16966589e-02  2.07866488e-02\n",
            " -7.47504189e-03  6.55432686e-03 -5.38888120e-03  1.04109865e-04\n",
            "  7.96277859e-03 -5.38141529e-03 -1.14874571e-02 -1.07967961e-02\n",
            "  8.86310293e-03 -5.50183953e-03  6.83410759e-03  2.95467758e-03\n",
            "  0.00000000e+00  2.34295693e-02 -6.17325066e-04 -2.82233528e-03\n",
            " -8.33606414e-04  6.43296206e-03 -1.41904727e-04 -1.51362635e-02\n",
            "  2.46157739e-03  3.19088647e-03  1.23966615e-03 -1.60299711e-03\n",
            " -5.91470018e-04  0.00000000e+00  0.00000000e+00 -1.71473143e-02\n",
            "  1.78882921e-02  1.50089087e-03  0.00000000e+00  1.53952816e-02\n",
            " -1.37690565e-02  1.41572315e-03 -1.30613010e-03  3.29009934e-03\n",
            "  6.50743636e-04  0.00000000e+00  1.55865090e-03 -2.22787068e-03\n",
            " -6.30252515e-03  2.95010316e-03  1.51861259e-03 -2.99634731e-03\n",
            " -1.29587094e-03 -3.49611447e-03 -2.66585095e-05  1.57254794e-03\n",
            " -5.75665272e-03 -6.30252515e-03  0.00000000e+00  2.44719824e-02\n",
            " -1.19083025e-02 -6.90149771e-03 -2.02322647e-02  8.08791225e-03\n",
            " -1.43661578e-02  1.11415569e-02  2.95010316e-03 -8.49233532e-03\n",
            "  7.71201599e-03  6.39741066e-03  1.71737287e-02 -6.66057328e-03\n",
            "  1.53904984e-02 -1.63283526e-02  1.51861259e-03  0.00000000e+00\n",
            " -2.27841384e-02 -1.25034204e-03  9.77207962e-03  8.96413033e-03\n",
            " -1.37469762e-02 -2.99634731e-03  6.31362731e-03 -3.24057989e-03\n",
            " -4.14000463e-03 -2.37389140e-03 -1.49613312e-03 -1.29587094e-03\n",
            "  0.00000000e+00  0.00000000e+00  1.19636977e-02 -1.66449403e-02\n",
            " -3.49611447e-03  0.00000000e+00 -1.33990555e-02  1.60421073e-02\n",
            " -2.66585095e-05  5.02491830e-03 -7.19426428e-03  1.57254794e-03\n",
            "  0.00000000e+00 -5.75665272e-03 -2.27916140e-03  0.00000000e+00\n",
            "  1.74196147e-03 -3.13978140e-03  2.81879583e-03 -1.87130442e-03\n",
            " -2.48180736e-03 -3.17057122e-03  9.02654213e-04  0.00000000e+00\n",
            "  0.00000000e+00  0.00000000e+00  0.00000000e+00  0.00000000e+00\n",
            "  0.00000000e+00  0.00000000e+00  0.00000000e+00  1.74196147e-03\n",
            "  0.00000000e+00  0.00000000e+00 -1.27493806e-02  8.22143651e-03\n",
            "  1.15938049e-03  1.30381608e-03 -3.13978140e-03  2.81879583e-03\n",
            "  4.58984882e-03 -6.21274139e-03 -3.76916706e-03  3.98817305e-04\n",
            "  2.81879583e-03  0.00000000e+00  0.00000000e+00  1.04090456e-02\n",
            " -1.15437470e-02 -1.87130442e-03  0.00000000e+00  1.57434170e-02\n",
            " -2.95974256e-02 -2.48180736e-03 -1.38710067e-02  1.42070009e-02\n",
            " -3.17057122e-03  0.00000000e+00  9.02654213e-04  2.27916140e-03\n",
            "  2.78685442e-03  3.44462377e-04 -4.86765793e-03  1.36450471e-04\n",
            "  3.79810750e-03  5.05354989e-03 -3.19337408e-03  2.78685442e-03\n",
            "  0.00000000e+00  8.87979300e-03  6.16741434e-03 -3.51374105e-03\n",
            "  3.36240301e-03 -4.25537389e-04  3.44462377e-04 -1.35198291e-02\n",
            " -4.66144990e-03  6.17427672e-03  3.19646288e-03 -3.21908051e-03\n",
            " -4.86765793e-03  0.00000000e+00  0.00000000e+00 -2.09719892e-02\n",
            "  1.09203726e-02  1.36450471e-04  0.00000000e+00 -1.20119364e-02\n",
            "  1.29464222e-02  3.79810750e-03  1.55532724e-02 -1.48672433e-02\n",
            "  5.05354989e-03  0.00000000e+00 -3.19337408e-03  3.44506362e-03\n",
            "  0.00000000e+00  8.87979300e-03 -1.10996595e-03  1.93933820e-03\n",
            "  3.58883883e-03  5.05170535e-04  0.00000000e+00  0.00000000e+00\n",
            "  0.00000000e+00  0.00000000e+00  0.00000000e+00  0.00000000e+00\n",
            "  8.87979300e-03  0.00000000e+00  0.00000000e+00 -3.45042821e-03\n",
            "  1.59744573e-02 -1.10996595e-03  0.00000000e+00 -1.58321712e-03\n",
            "  7.32965348e-04  1.93933820e-03  5.93538765e-03 -5.69201759e-03\n",
            "  3.58883883e-03  0.00000000e+00  5.05170535e-04 -3.44506362e-03\n",
            " -5.86865459e-03 -5.08683214e-04  1.16666384e-05 -6.04046107e-04\n",
            " -2.33518887e-03 -5.86865459e-03  0.00000000e+00  0.00000000e+00\n",
            " -2.47728460e-03 -6.07107042e-03 -5.08683214e-04  0.00000000e+00\n",
            "  3.62737557e-03 -4.43849031e-03  1.16666384e-05 -1.37028212e-03\n",
            "  1.62564475e-03 -6.04046107e-04  0.00000000e+00 -2.33518887e-03\n",
            " -1.34221344e-03  0.00000000e+00  0.00000000e+00 -3.69570509e-03\n",
            "  2.23362460e-03  0.00000000e+00  0.00000000e+00  0.00000000e+00\n",
            "  0.00000000e+00  0.00000000e+00  0.00000000e+00  0.00000000e+00\n",
            " -3.69570509e-03  0.00000000e+00  2.23362460e-03 -1.08636664e-03\n",
            "  0.00000000e+00  1.76421835e-03 -3.81880612e-03  0.00000000e+00\n",
            "  0.00000000e+00  0.00000000e+00  1.76421835e-03  0.00000000e+00\n",
            " -3.81880612e-03  1.72955702e-03  2.23820868e-03 -9.75678882e-04\n",
            "  2.23820868e-03  0.00000000e+00 -9.75678882e-04  1.99589408e-03\n",
            "  0.00000000e+00  0.00000000e+00 -1.99589408e-03]\n",
            "2.2091420944285667\n"
          ]
        }
      ]
    },
    {
      "cell_type": "code",
      "source": [
        "#apply to GridSearchCV\n",
        "param_dict_ridge = {'ridge_model__alpha':[0.1,1,10]}\n",
        "ridge_grid=GridSearchCV(estimator=ridge_pipe,param_grid=param_dict_ridge)\n",
        "ridge_grid.fit(X_train,y_train)\n",
        "train_grid_ridge_pred=ridge_grid.predict(X_train)\n",
        "test_grid_ridge_pred=ridge_grid.predict(X_test)"
      ],
      "metadata": {
        "id": "sI-KPtoIJcqv"
      },
      "execution_count": 161,
      "outputs": []
    },
    {
      "cell_type": "code",
      "source": [
        "#Calculate the mean squared error\n",
        "train_mse_ridge=mean_squared_error(y_train,train_grid_ridge_pred)\n",
        "test_mse_ridge=mean_squared_error(y_test,test_grid_ridge_pred)\n",
        "\n",
        "print(f'train mean squared erro: {train_mse_ridge}')\n",
        "print(f'test mean squared erro: {test_mse_ridge}')"
      ],
      "metadata": {
        "colab": {
          "base_uri": "https://localhost:8080/"
        },
        "id": "2MIByX3TJ_xE",
        "outputId": "a2404715-9f49-4cd5-abd8-e56be28e4f71"
      },
      "execution_count": 162,
      "outputs": [
        {
          "output_type": "stream",
          "name": "stdout",
          "text": [
            "train mean squared erro: 0.16744867633358326\n",
            "test mean squared erro: 0.23066624831388366\n"
          ]
        }
      ]
    },
    {
      "cell_type": "code",
      "source": [
        "ridge_grid.best_score_"
      ],
      "metadata": {
        "colab": {
          "base_uri": "https://localhost:8080/"
        },
        "id": "vuMcbYygLc6i",
        "outputId": "8f058059-3274-4ebe-a953-3b08b83e3f84"
      },
      "execution_count": 169,
      "outputs": [
        {
          "output_type": "execute_result",
          "data": {
            "text/plain": [
              "0.013456727203516738"
            ]
          },
          "metadata": {},
          "execution_count": 169
        }
      ]
    },
    {
      "cell_type": "code",
      "source": [
        "ridge_grid.param_grid"
      ],
      "metadata": {
        "colab": {
          "base_uri": "https://localhost:8080/"
        },
        "id": "BGoGWsdILkrv",
        "outputId": "b9e81150-bcf7-4da3-8086-ef99057e8535"
      },
      "execution_count": 194,
      "outputs": [
        {
          "output_type": "execute_result",
          "data": {
            "text/plain": [
              "{'ridge_model__alpha': [0.1, 1, 10]}"
            ]
          },
          "metadata": {},
          "execution_count": 194
        }
      ]
    },
    {
      "cell_type": "code",
      "source": [
        "best_estimator=ridge_grid.best_estimator_\n",
        "best_estimator"
      ],
      "metadata": {
        "colab": {
          "base_uri": "https://localhost:8080/",
          "height": 262
        },
        "id": "srjRxmwYKZC_",
        "outputId": "b8611f78-3988-4ada-e0eb-4e9f6a947c24"
      },
      "execution_count": 164,
      "outputs": [
        {
          "output_type": "execute_result",
          "data": {
            "text/plain": [
              "Pipeline(steps=[('transformer',\n",
              "                 ColumnTransformer(transformers=[('onehotencoder',\n",
              "                                                  OneHotEncoder(sparse=False),\n",
              "                                                  ['SOUTH', 'SEX', 'UNION',\n",
              "                                                   'RACE', 'MARR'])])),\n",
              "                ('poly_feaures',\n",
              "                 PolynomialFeatures(degree=3, include_bias=False)),\n",
              "                ('scaler', StandardScaler()),\n",
              "                ('ridge_model', Ridge(alpha=10))])"
            ],
            "text/html": [
              "<style>#sk-b9a40458-67b3-42d3-bd1a-bd53f544078f {color: black;background-color: white;}#sk-b9a40458-67b3-42d3-bd1a-bd53f544078f pre{padding: 0;}#sk-b9a40458-67b3-42d3-bd1a-bd53f544078f div.sk-toggleable {background-color: white;}#sk-b9a40458-67b3-42d3-bd1a-bd53f544078f label.sk-toggleable__label {cursor: pointer;display: block;width: 100%;margin-bottom: 0;padding: 0.3em;box-sizing: border-box;text-align: center;}#sk-b9a40458-67b3-42d3-bd1a-bd53f544078f label.sk-toggleable__label-arrow:before {content: \"▸\";float: left;margin-right: 0.25em;color: #696969;}#sk-b9a40458-67b3-42d3-bd1a-bd53f544078f label.sk-toggleable__label-arrow:hover:before {color: black;}#sk-b9a40458-67b3-42d3-bd1a-bd53f544078f div.sk-estimator:hover label.sk-toggleable__label-arrow:before {color: black;}#sk-b9a40458-67b3-42d3-bd1a-bd53f544078f div.sk-toggleable__content {max-height: 0;max-width: 0;overflow: hidden;text-align: left;background-color: #f0f8ff;}#sk-b9a40458-67b3-42d3-bd1a-bd53f544078f div.sk-toggleable__content pre {margin: 0.2em;color: black;border-radius: 0.25em;background-color: #f0f8ff;}#sk-b9a40458-67b3-42d3-bd1a-bd53f544078f input.sk-toggleable__control:checked~div.sk-toggleable__content {max-height: 200px;max-width: 100%;overflow: auto;}#sk-b9a40458-67b3-42d3-bd1a-bd53f544078f input.sk-toggleable__control:checked~label.sk-toggleable__label-arrow:before {content: \"▾\";}#sk-b9a40458-67b3-42d3-bd1a-bd53f544078f div.sk-estimator input.sk-toggleable__control:checked~label.sk-toggleable__label {background-color: #d4ebff;}#sk-b9a40458-67b3-42d3-bd1a-bd53f544078f div.sk-label input.sk-toggleable__control:checked~label.sk-toggleable__label {background-color: #d4ebff;}#sk-b9a40458-67b3-42d3-bd1a-bd53f544078f input.sk-hidden--visually {border: 0;clip: rect(1px 1px 1px 1px);clip: rect(1px, 1px, 1px, 1px);height: 1px;margin: -1px;overflow: hidden;padding: 0;position: absolute;width: 1px;}#sk-b9a40458-67b3-42d3-bd1a-bd53f544078f div.sk-estimator {font-family: monospace;background-color: #f0f8ff;border: 1px dotted black;border-radius: 0.25em;box-sizing: border-box;margin-bottom: 0.5em;}#sk-b9a40458-67b3-42d3-bd1a-bd53f544078f div.sk-estimator:hover {background-color: #d4ebff;}#sk-b9a40458-67b3-42d3-bd1a-bd53f544078f div.sk-parallel-item::after {content: \"\";width: 100%;border-bottom: 1px solid gray;flex-grow: 1;}#sk-b9a40458-67b3-42d3-bd1a-bd53f544078f div.sk-label:hover label.sk-toggleable__label {background-color: #d4ebff;}#sk-b9a40458-67b3-42d3-bd1a-bd53f544078f div.sk-serial::before {content: \"\";position: absolute;border-left: 1px solid gray;box-sizing: border-box;top: 2em;bottom: 0;left: 50%;}#sk-b9a40458-67b3-42d3-bd1a-bd53f544078f div.sk-serial {display: flex;flex-direction: column;align-items: center;background-color: white;padding-right: 0.2em;padding-left: 0.2em;}#sk-b9a40458-67b3-42d3-bd1a-bd53f544078f div.sk-item {z-index: 1;}#sk-b9a40458-67b3-42d3-bd1a-bd53f544078f div.sk-parallel {display: flex;align-items: stretch;justify-content: center;background-color: white;}#sk-b9a40458-67b3-42d3-bd1a-bd53f544078f div.sk-parallel::before {content: \"\";position: absolute;border-left: 1px solid gray;box-sizing: border-box;top: 2em;bottom: 0;left: 50%;}#sk-b9a40458-67b3-42d3-bd1a-bd53f544078f div.sk-parallel-item {display: flex;flex-direction: column;position: relative;background-color: white;}#sk-b9a40458-67b3-42d3-bd1a-bd53f544078f div.sk-parallel-item:first-child::after {align-self: flex-end;width: 50%;}#sk-b9a40458-67b3-42d3-bd1a-bd53f544078f div.sk-parallel-item:last-child::after {align-self: flex-start;width: 50%;}#sk-b9a40458-67b3-42d3-bd1a-bd53f544078f div.sk-parallel-item:only-child::after {width: 0;}#sk-b9a40458-67b3-42d3-bd1a-bd53f544078f div.sk-dashed-wrapped {border: 1px dashed gray;margin: 0 0.4em 0.5em 0.4em;box-sizing: border-box;padding-bottom: 0.4em;background-color: white;position: relative;}#sk-b9a40458-67b3-42d3-bd1a-bd53f544078f div.sk-label label {font-family: monospace;font-weight: bold;background-color: white;display: inline-block;line-height: 1.2em;}#sk-b9a40458-67b3-42d3-bd1a-bd53f544078f div.sk-label-container {position: relative;z-index: 2;text-align: center;}#sk-b9a40458-67b3-42d3-bd1a-bd53f544078f div.sk-container {/* jupyter's `normalize.less` sets `[hidden] { display: none; }` but bootstrap.min.css set `[hidden] { display: none !important; }` so we also need the `!important` here to be able to override the default hidden behavior on the sphinx rendered scikit-learn.org. See: https://github.com/scikit-learn/scikit-learn/issues/21755 */display: inline-block !important;position: relative;}#sk-b9a40458-67b3-42d3-bd1a-bd53f544078f div.sk-text-repr-fallback {display: none;}</style><div id=\"sk-b9a40458-67b3-42d3-bd1a-bd53f544078f\" class=\"sk-top-container\"><div class=\"sk-text-repr-fallback\"><pre>Pipeline(steps=[(&#x27;transformer&#x27;,\n",
              "                 ColumnTransformer(transformers=[(&#x27;onehotencoder&#x27;,\n",
              "                                                  OneHotEncoder(sparse=False),\n",
              "                                                  [&#x27;SOUTH&#x27;, &#x27;SEX&#x27;, &#x27;UNION&#x27;,\n",
              "                                                   &#x27;RACE&#x27;, &#x27;MARR&#x27;])])),\n",
              "                (&#x27;poly_feaures&#x27;,\n",
              "                 PolynomialFeatures(degree=3, include_bias=False)),\n",
              "                (&#x27;scaler&#x27;, StandardScaler()),\n",
              "                (&#x27;ridge_model&#x27;, Ridge(alpha=10))])</pre><b>Please rerun this cell to show the HTML repr or trust the notebook.</b></div><div class=\"sk-container\" hidden><div class=\"sk-item sk-dashed-wrapped\"><div class=\"sk-label-container\"><div class=\"sk-label sk-toggleable\"><input class=\"sk-toggleable__control sk-hidden--visually\" id=\"dc38e3f9-73ba-420a-85ef-a8723d47b2e4\" type=\"checkbox\" ><label for=\"dc38e3f9-73ba-420a-85ef-a8723d47b2e4\" class=\"sk-toggleable__label sk-toggleable__label-arrow\">Pipeline</label><div class=\"sk-toggleable__content\"><pre>Pipeline(steps=[(&#x27;transformer&#x27;,\n",
              "                 ColumnTransformer(transformers=[(&#x27;onehotencoder&#x27;,\n",
              "                                                  OneHotEncoder(sparse=False),\n",
              "                                                  [&#x27;SOUTH&#x27;, &#x27;SEX&#x27;, &#x27;UNION&#x27;,\n",
              "                                                   &#x27;RACE&#x27;, &#x27;MARR&#x27;])])),\n",
              "                (&#x27;poly_feaures&#x27;,\n",
              "                 PolynomialFeatures(degree=3, include_bias=False)),\n",
              "                (&#x27;scaler&#x27;, StandardScaler()),\n",
              "                (&#x27;ridge_model&#x27;, Ridge(alpha=10))])</pre></div></div></div><div class=\"sk-serial\"><div class=\"sk-item sk-dashed-wrapped\"><div class=\"sk-label-container\"><div class=\"sk-label sk-toggleable\"><input class=\"sk-toggleable__control sk-hidden--visually\" id=\"befda6ee-cc6d-4121-97fe-03a6cf2ba957\" type=\"checkbox\" ><label for=\"befda6ee-cc6d-4121-97fe-03a6cf2ba957\" class=\"sk-toggleable__label sk-toggleable__label-arrow\">transformer: ColumnTransformer</label><div class=\"sk-toggleable__content\"><pre>ColumnTransformer(transformers=[(&#x27;onehotencoder&#x27;, OneHotEncoder(sparse=False),\n",
              "                                 [&#x27;SOUTH&#x27;, &#x27;SEX&#x27;, &#x27;UNION&#x27;, &#x27;RACE&#x27;, &#x27;MARR&#x27;])])</pre></div></div></div><div class=\"sk-parallel\"><div class=\"sk-parallel-item\"><div class=\"sk-item\"><div class=\"sk-label-container\"><div class=\"sk-label sk-toggleable\"><input class=\"sk-toggleable__control sk-hidden--visually\" id=\"1ddb9da4-14d6-40f0-80ab-6e90b4c529bb\" type=\"checkbox\" ><label for=\"1ddb9da4-14d6-40f0-80ab-6e90b4c529bb\" class=\"sk-toggleable__label sk-toggleable__label-arrow\">onehotencoder</label><div class=\"sk-toggleable__content\"><pre>[&#x27;SOUTH&#x27;, &#x27;SEX&#x27;, &#x27;UNION&#x27;, &#x27;RACE&#x27;, &#x27;MARR&#x27;]</pre></div></div></div><div class=\"sk-serial\"><div class=\"sk-item\"><div class=\"sk-estimator sk-toggleable\"><input class=\"sk-toggleable__control sk-hidden--visually\" id=\"76f085d5-a47f-422a-a7e8-2fe484639690\" type=\"checkbox\" ><label for=\"76f085d5-a47f-422a-a7e8-2fe484639690\" class=\"sk-toggleable__label sk-toggleable__label-arrow\">OneHotEncoder</label><div class=\"sk-toggleable__content\"><pre>OneHotEncoder(sparse=False)</pre></div></div></div></div></div></div></div></div><div class=\"sk-item\"><div class=\"sk-estimator sk-toggleable\"><input class=\"sk-toggleable__control sk-hidden--visually\" id=\"8bfac54e-cf89-43b1-b81e-923a068e9482\" type=\"checkbox\" ><label for=\"8bfac54e-cf89-43b1-b81e-923a068e9482\" class=\"sk-toggleable__label sk-toggleable__label-arrow\">PolynomialFeatures</label><div class=\"sk-toggleable__content\"><pre>PolynomialFeatures(degree=3, include_bias=False)</pre></div></div></div><div class=\"sk-item\"><div class=\"sk-estimator sk-toggleable\"><input class=\"sk-toggleable__control sk-hidden--visually\" id=\"6d932838-0214-492f-b3a2-7183ce90ef73\" type=\"checkbox\" ><label for=\"6d932838-0214-492f-b3a2-7183ce90ef73\" class=\"sk-toggleable__label sk-toggleable__label-arrow\">StandardScaler</label><div class=\"sk-toggleable__content\"><pre>StandardScaler()</pre></div></div></div><div class=\"sk-item\"><div class=\"sk-estimator sk-toggleable\"><input class=\"sk-toggleable__control sk-hidden--visually\" id=\"454eb7e2-4b84-4257-9711-52b9aadb1cbd\" type=\"checkbox\" ><label for=\"454eb7e2-4b84-4257-9711-52b9aadb1cbd\" class=\"sk-toggleable__label sk-toggleable__label-arrow\">Ridge</label><div class=\"sk-toggleable__content\"><pre>Ridge(alpha=10)</pre></div></div></div></div></div></div></div>"
            ]
          },
          "metadata": {},
          "execution_count": 164
        }
      ]
    },
    {
      "cell_type": "code",
      "source": [
        "best_model=best_estimator.named_steps['ridge_model']\n",
        "best_model"
      ],
      "metadata": {
        "colab": {
          "base_uri": "https://localhost:8080/",
          "height": 75
        },
        "id": "lotNzwahKklk",
        "outputId": "da23d075-3fda-47b2-8277-fcdf24eb3ea0"
      },
      "execution_count": 167,
      "outputs": [
        {
          "output_type": "execute_result",
          "data": {
            "text/plain": [
              "Ridge(alpha=10)"
            ],
            "text/html": [
              "<style>#sk-22c5a993-3a33-4049-accf-ad592796a8d1 {color: black;background-color: white;}#sk-22c5a993-3a33-4049-accf-ad592796a8d1 pre{padding: 0;}#sk-22c5a993-3a33-4049-accf-ad592796a8d1 div.sk-toggleable {background-color: white;}#sk-22c5a993-3a33-4049-accf-ad592796a8d1 label.sk-toggleable__label {cursor: pointer;display: block;width: 100%;margin-bottom: 0;padding: 0.3em;box-sizing: border-box;text-align: center;}#sk-22c5a993-3a33-4049-accf-ad592796a8d1 label.sk-toggleable__label-arrow:before {content: \"▸\";float: left;margin-right: 0.25em;color: #696969;}#sk-22c5a993-3a33-4049-accf-ad592796a8d1 label.sk-toggleable__label-arrow:hover:before {color: black;}#sk-22c5a993-3a33-4049-accf-ad592796a8d1 div.sk-estimator:hover label.sk-toggleable__label-arrow:before {color: black;}#sk-22c5a993-3a33-4049-accf-ad592796a8d1 div.sk-toggleable__content {max-height: 0;max-width: 0;overflow: hidden;text-align: left;background-color: #f0f8ff;}#sk-22c5a993-3a33-4049-accf-ad592796a8d1 div.sk-toggleable__content pre {margin: 0.2em;color: black;border-radius: 0.25em;background-color: #f0f8ff;}#sk-22c5a993-3a33-4049-accf-ad592796a8d1 input.sk-toggleable__control:checked~div.sk-toggleable__content {max-height: 200px;max-width: 100%;overflow: auto;}#sk-22c5a993-3a33-4049-accf-ad592796a8d1 input.sk-toggleable__control:checked~label.sk-toggleable__label-arrow:before {content: \"▾\";}#sk-22c5a993-3a33-4049-accf-ad592796a8d1 div.sk-estimator input.sk-toggleable__control:checked~label.sk-toggleable__label {background-color: #d4ebff;}#sk-22c5a993-3a33-4049-accf-ad592796a8d1 div.sk-label input.sk-toggleable__control:checked~label.sk-toggleable__label {background-color: #d4ebff;}#sk-22c5a993-3a33-4049-accf-ad592796a8d1 input.sk-hidden--visually {border: 0;clip: rect(1px 1px 1px 1px);clip: rect(1px, 1px, 1px, 1px);height: 1px;margin: -1px;overflow: hidden;padding: 0;position: absolute;width: 1px;}#sk-22c5a993-3a33-4049-accf-ad592796a8d1 div.sk-estimator {font-family: monospace;background-color: #f0f8ff;border: 1px dotted black;border-radius: 0.25em;box-sizing: border-box;margin-bottom: 0.5em;}#sk-22c5a993-3a33-4049-accf-ad592796a8d1 div.sk-estimator:hover {background-color: #d4ebff;}#sk-22c5a993-3a33-4049-accf-ad592796a8d1 div.sk-parallel-item::after {content: \"\";width: 100%;border-bottom: 1px solid gray;flex-grow: 1;}#sk-22c5a993-3a33-4049-accf-ad592796a8d1 div.sk-label:hover label.sk-toggleable__label {background-color: #d4ebff;}#sk-22c5a993-3a33-4049-accf-ad592796a8d1 div.sk-serial::before {content: \"\";position: absolute;border-left: 1px solid gray;box-sizing: border-box;top: 2em;bottom: 0;left: 50%;}#sk-22c5a993-3a33-4049-accf-ad592796a8d1 div.sk-serial {display: flex;flex-direction: column;align-items: center;background-color: white;padding-right: 0.2em;padding-left: 0.2em;}#sk-22c5a993-3a33-4049-accf-ad592796a8d1 div.sk-item {z-index: 1;}#sk-22c5a993-3a33-4049-accf-ad592796a8d1 div.sk-parallel {display: flex;align-items: stretch;justify-content: center;background-color: white;}#sk-22c5a993-3a33-4049-accf-ad592796a8d1 div.sk-parallel::before {content: \"\";position: absolute;border-left: 1px solid gray;box-sizing: border-box;top: 2em;bottom: 0;left: 50%;}#sk-22c5a993-3a33-4049-accf-ad592796a8d1 div.sk-parallel-item {display: flex;flex-direction: column;position: relative;background-color: white;}#sk-22c5a993-3a33-4049-accf-ad592796a8d1 div.sk-parallel-item:first-child::after {align-self: flex-end;width: 50%;}#sk-22c5a993-3a33-4049-accf-ad592796a8d1 div.sk-parallel-item:last-child::after {align-self: flex-start;width: 50%;}#sk-22c5a993-3a33-4049-accf-ad592796a8d1 div.sk-parallel-item:only-child::after {width: 0;}#sk-22c5a993-3a33-4049-accf-ad592796a8d1 div.sk-dashed-wrapped {border: 1px dashed gray;margin: 0 0.4em 0.5em 0.4em;box-sizing: border-box;padding-bottom: 0.4em;background-color: white;position: relative;}#sk-22c5a993-3a33-4049-accf-ad592796a8d1 div.sk-label label {font-family: monospace;font-weight: bold;background-color: white;display: inline-block;line-height: 1.2em;}#sk-22c5a993-3a33-4049-accf-ad592796a8d1 div.sk-label-container {position: relative;z-index: 2;text-align: center;}#sk-22c5a993-3a33-4049-accf-ad592796a8d1 div.sk-container {/* jupyter's `normalize.less` sets `[hidden] { display: none; }` but bootstrap.min.css set `[hidden] { display: none !important; }` so we also need the `!important` here to be able to override the default hidden behavior on the sphinx rendered scikit-learn.org. See: https://github.com/scikit-learn/scikit-learn/issues/21755 */display: inline-block !important;position: relative;}#sk-22c5a993-3a33-4049-accf-ad592796a8d1 div.sk-text-repr-fallback {display: none;}</style><div id=\"sk-22c5a993-3a33-4049-accf-ad592796a8d1\" class=\"sk-top-container\"><div class=\"sk-text-repr-fallback\"><pre>Ridge(alpha=10)</pre><b>Please rerun this cell to show the HTML repr or trust the notebook.</b></div><div class=\"sk-container\" hidden><div class=\"sk-item\"><div class=\"sk-estimator sk-toggleable\"><input class=\"sk-toggleable__control sk-hidden--visually\" id=\"2d9fde98-a3e1-40ab-9e4f-a119b643814f\" type=\"checkbox\" checked><label for=\"2d9fde98-a3e1-40ab-9e4f-a119b643814f\" class=\"sk-toggleable__label sk-toggleable__label-arrow\">Ridge</label><div class=\"sk-toggleable__content\"><pre>Ridge(alpha=10)</pre></div></div></div></div></div>"
            ]
          },
          "metadata": {},
          "execution_count": 167
        }
      ]
    },
    {
      "cell_type": "code",
      "source": [],
      "metadata": {
        "id": "tA6Bo6W3K2Z2"
      },
      "execution_count": null,
      "outputs": []
    },
    {
      "cell_type": "markdown",
      "source": [
        "# Apply SequentailFeature Selection"
      ],
      "metadata": {
        "id": "ZNhF37LgL3vO"
      }
    },
    {
      "cell_type": "code",
      "source": [
        "seq_pipe=Pipeline(\n",
        "               steps=[('transformer',transformer),\n",
        "                      ('poly_feaures',PolynomialFeatures(degree=3,include_bias=False)),\n",
        "                      ('scaler',StandardScaler()),\n",
        "                      ('selector',SequentialFeatureSelector(estimator=Lasso())),\n",
        "                      ('lr_model',LinearRegression())\n",
        "                                          ] \n",
        "\n",
        "                                        )"
      ],
      "metadata": {
        "id": "DdhezxEeL8XJ"
      },
      "execution_count": 173,
      "outputs": []
    },
    {
      "cell_type": "code",
      "source": [
        "#apply to GridSearchCV\n",
        "param_dict = {'selector__n_features_to_select': [2, 3, 4, 5]}\n",
        "seq_grid=GridSearchCV(estimator=seq_pipe,param_grid=param_dict)\n",
        "seq_grid.fit(X_train,y_train)\n",
        "train_seq_pred=seq_grid.predict(X_train)\n",
        "test_seq_pred=seq_grid.predict(X_test)"
      ],
      "metadata": {
        "id": "Psu7C98oMVp7"
      },
      "execution_count": 174,
      "outputs": []
    },
    {
      "cell_type": "code",
      "source": [
        "seq_grid.best_score_"
      ],
      "metadata": {
        "colab": {
          "base_uri": "https://localhost:8080/"
        },
        "id": "IiFO_x_YNJh_",
        "outputId": "2d1f1952-cbc5-431b-a2ae-f2f50b550933"
      },
      "execution_count": 175,
      "outputs": [
        {
          "output_type": "execute_result",
          "data": {
            "text/plain": [
              "0.06456487001773067"
            ]
          },
          "metadata": {},
          "execution_count": 175
        }
      ]
    },
    {
      "cell_type": "markdown",
      "source": [
        "The ridge model score 0.013456727203516738 is smaller than the sequential fature selection score 0.06456487001773067. This is ridge model predicts better than the sequential feature selection model."
      ],
      "metadata": {
        "id": "_itawOJ0Of-f"
      }
    },
    {
      "cell_type": "code",
      "source": [
        "#Calculate the mean squared error\n",
        "train_mse_seq=mean_squared_error(y_train,train_seq_pred)\n",
        "test_mse_seq=mean_squared_error(y_test,test_seq_pred)\n",
        "\n",
        "print(f'train mean squared erro: {train_mse_seq}')\n",
        "print(f'test mean squared erro: {test_mse_seq}')"
      ],
      "metadata": {
        "colab": {
          "base_uri": "https://localhost:8080/"
        },
        "id": "4Suihwymm4xt",
        "outputId": "4a778bd0-0c1e-470b-b377-b597d389dbfe"
      },
      "execution_count": 196,
      "outputs": [
        {
          "output_type": "stream",
          "name": "stdout",
          "text": [
            "train mean squared erro: 0.1894861527000161\n",
            "test mean squared erro: 0.2070276972207411\n"
          ]
        }
      ]
    },
    {
      "cell_type": "code",
      "source": [
        "best_estimator=seq_grid.best_estimator_\n",
        "best_estimator"
      ],
      "metadata": {
        "colab": {
          "base_uri": "https://localhost:8080/",
          "height": 337
        },
        "id": "WJPM9nJ6Ob1c",
        "outputId": "54261b8e-1aa0-4171-c2f9-728813ebe60f"
      },
      "execution_count": 177,
      "outputs": [
        {
          "output_type": "execute_result",
          "data": {
            "text/plain": [
              "Pipeline(steps=[('transformer',\n",
              "                 ColumnTransformer(transformers=[('onehotencoder',\n",
              "                                                  OneHotEncoder(sparse=False),\n",
              "                                                  ['SOUTH', 'SEX', 'UNION',\n",
              "                                                   'RACE', 'MARR'])])),\n",
              "                ('poly_feaures',\n",
              "                 PolynomialFeatures(degree=3, include_bias=False)),\n",
              "                ('scaler', StandardScaler()),\n",
              "                ('selector',\n",
              "                 SequentialFeatureSelector(estimator=Lasso(),\n",
              "                                           n_features_to_select=5)),\n",
              "                ('lr_model', LinearRegression())])"
            ],
            "text/html": [
              "<style>#sk-49ca6a16-22f1-4e16-917f-480c5a189143 {color: black;background-color: white;}#sk-49ca6a16-22f1-4e16-917f-480c5a189143 pre{padding: 0;}#sk-49ca6a16-22f1-4e16-917f-480c5a189143 div.sk-toggleable {background-color: white;}#sk-49ca6a16-22f1-4e16-917f-480c5a189143 label.sk-toggleable__label {cursor: pointer;display: block;width: 100%;margin-bottom: 0;padding: 0.3em;box-sizing: border-box;text-align: center;}#sk-49ca6a16-22f1-4e16-917f-480c5a189143 label.sk-toggleable__label-arrow:before {content: \"▸\";float: left;margin-right: 0.25em;color: #696969;}#sk-49ca6a16-22f1-4e16-917f-480c5a189143 label.sk-toggleable__label-arrow:hover:before {color: black;}#sk-49ca6a16-22f1-4e16-917f-480c5a189143 div.sk-estimator:hover label.sk-toggleable__label-arrow:before {color: black;}#sk-49ca6a16-22f1-4e16-917f-480c5a189143 div.sk-toggleable__content {max-height: 0;max-width: 0;overflow: hidden;text-align: left;background-color: #f0f8ff;}#sk-49ca6a16-22f1-4e16-917f-480c5a189143 div.sk-toggleable__content pre {margin: 0.2em;color: black;border-radius: 0.25em;background-color: #f0f8ff;}#sk-49ca6a16-22f1-4e16-917f-480c5a189143 input.sk-toggleable__control:checked~div.sk-toggleable__content {max-height: 200px;max-width: 100%;overflow: auto;}#sk-49ca6a16-22f1-4e16-917f-480c5a189143 input.sk-toggleable__control:checked~label.sk-toggleable__label-arrow:before {content: \"▾\";}#sk-49ca6a16-22f1-4e16-917f-480c5a189143 div.sk-estimator input.sk-toggleable__control:checked~label.sk-toggleable__label {background-color: #d4ebff;}#sk-49ca6a16-22f1-4e16-917f-480c5a189143 div.sk-label input.sk-toggleable__control:checked~label.sk-toggleable__label {background-color: #d4ebff;}#sk-49ca6a16-22f1-4e16-917f-480c5a189143 input.sk-hidden--visually {border: 0;clip: rect(1px 1px 1px 1px);clip: rect(1px, 1px, 1px, 1px);height: 1px;margin: -1px;overflow: hidden;padding: 0;position: absolute;width: 1px;}#sk-49ca6a16-22f1-4e16-917f-480c5a189143 div.sk-estimator {font-family: monospace;background-color: #f0f8ff;border: 1px dotted black;border-radius: 0.25em;box-sizing: border-box;margin-bottom: 0.5em;}#sk-49ca6a16-22f1-4e16-917f-480c5a189143 div.sk-estimator:hover {background-color: #d4ebff;}#sk-49ca6a16-22f1-4e16-917f-480c5a189143 div.sk-parallel-item::after {content: \"\";width: 100%;border-bottom: 1px solid gray;flex-grow: 1;}#sk-49ca6a16-22f1-4e16-917f-480c5a189143 div.sk-label:hover label.sk-toggleable__label {background-color: #d4ebff;}#sk-49ca6a16-22f1-4e16-917f-480c5a189143 div.sk-serial::before {content: \"\";position: absolute;border-left: 1px solid gray;box-sizing: border-box;top: 2em;bottom: 0;left: 50%;}#sk-49ca6a16-22f1-4e16-917f-480c5a189143 div.sk-serial {display: flex;flex-direction: column;align-items: center;background-color: white;padding-right: 0.2em;padding-left: 0.2em;}#sk-49ca6a16-22f1-4e16-917f-480c5a189143 div.sk-item {z-index: 1;}#sk-49ca6a16-22f1-4e16-917f-480c5a189143 div.sk-parallel {display: flex;align-items: stretch;justify-content: center;background-color: white;}#sk-49ca6a16-22f1-4e16-917f-480c5a189143 div.sk-parallel::before {content: \"\";position: absolute;border-left: 1px solid gray;box-sizing: border-box;top: 2em;bottom: 0;left: 50%;}#sk-49ca6a16-22f1-4e16-917f-480c5a189143 div.sk-parallel-item {display: flex;flex-direction: column;position: relative;background-color: white;}#sk-49ca6a16-22f1-4e16-917f-480c5a189143 div.sk-parallel-item:first-child::after {align-self: flex-end;width: 50%;}#sk-49ca6a16-22f1-4e16-917f-480c5a189143 div.sk-parallel-item:last-child::after {align-self: flex-start;width: 50%;}#sk-49ca6a16-22f1-4e16-917f-480c5a189143 div.sk-parallel-item:only-child::after {width: 0;}#sk-49ca6a16-22f1-4e16-917f-480c5a189143 div.sk-dashed-wrapped {border: 1px dashed gray;margin: 0 0.4em 0.5em 0.4em;box-sizing: border-box;padding-bottom: 0.4em;background-color: white;position: relative;}#sk-49ca6a16-22f1-4e16-917f-480c5a189143 div.sk-label label {font-family: monospace;font-weight: bold;background-color: white;display: inline-block;line-height: 1.2em;}#sk-49ca6a16-22f1-4e16-917f-480c5a189143 div.sk-label-container {position: relative;z-index: 2;text-align: center;}#sk-49ca6a16-22f1-4e16-917f-480c5a189143 div.sk-container {/* jupyter's `normalize.less` sets `[hidden] { display: none; }` but bootstrap.min.css set `[hidden] { display: none !important; }` so we also need the `!important` here to be able to override the default hidden behavior on the sphinx rendered scikit-learn.org. See: https://github.com/scikit-learn/scikit-learn/issues/21755 */display: inline-block !important;position: relative;}#sk-49ca6a16-22f1-4e16-917f-480c5a189143 div.sk-text-repr-fallback {display: none;}</style><div id=\"sk-49ca6a16-22f1-4e16-917f-480c5a189143\" class=\"sk-top-container\"><div class=\"sk-text-repr-fallback\"><pre>Pipeline(steps=[(&#x27;transformer&#x27;,\n",
              "                 ColumnTransformer(transformers=[(&#x27;onehotencoder&#x27;,\n",
              "                                                  OneHotEncoder(sparse=False),\n",
              "                                                  [&#x27;SOUTH&#x27;, &#x27;SEX&#x27;, &#x27;UNION&#x27;,\n",
              "                                                   &#x27;RACE&#x27;, &#x27;MARR&#x27;])])),\n",
              "                (&#x27;poly_feaures&#x27;,\n",
              "                 PolynomialFeatures(degree=3, include_bias=False)),\n",
              "                (&#x27;scaler&#x27;, StandardScaler()),\n",
              "                (&#x27;selector&#x27;,\n",
              "                 SequentialFeatureSelector(estimator=Lasso(),\n",
              "                                           n_features_to_select=5)),\n",
              "                (&#x27;lr_model&#x27;, LinearRegression())])</pre><b>Please rerun this cell to show the HTML repr or trust the notebook.</b></div><div class=\"sk-container\" hidden><div class=\"sk-item sk-dashed-wrapped\"><div class=\"sk-label-container\"><div class=\"sk-label sk-toggleable\"><input class=\"sk-toggleable__control sk-hidden--visually\" id=\"b42053d2-b94a-4474-a1d0-e952f5f943e1\" type=\"checkbox\" ><label for=\"b42053d2-b94a-4474-a1d0-e952f5f943e1\" class=\"sk-toggleable__label sk-toggleable__label-arrow\">Pipeline</label><div class=\"sk-toggleable__content\"><pre>Pipeline(steps=[(&#x27;transformer&#x27;,\n",
              "                 ColumnTransformer(transformers=[(&#x27;onehotencoder&#x27;,\n",
              "                                                  OneHotEncoder(sparse=False),\n",
              "                                                  [&#x27;SOUTH&#x27;, &#x27;SEX&#x27;, &#x27;UNION&#x27;,\n",
              "                                                   &#x27;RACE&#x27;, &#x27;MARR&#x27;])])),\n",
              "                (&#x27;poly_feaures&#x27;,\n",
              "                 PolynomialFeatures(degree=3, include_bias=False)),\n",
              "                (&#x27;scaler&#x27;, StandardScaler()),\n",
              "                (&#x27;selector&#x27;,\n",
              "                 SequentialFeatureSelector(estimator=Lasso(),\n",
              "                                           n_features_to_select=5)),\n",
              "                (&#x27;lr_model&#x27;, LinearRegression())])</pre></div></div></div><div class=\"sk-serial\"><div class=\"sk-item sk-dashed-wrapped\"><div class=\"sk-label-container\"><div class=\"sk-label sk-toggleable\"><input class=\"sk-toggleable__control sk-hidden--visually\" id=\"c51c4424-4f96-416d-9d78-dba0d909aa3b\" type=\"checkbox\" ><label for=\"c51c4424-4f96-416d-9d78-dba0d909aa3b\" class=\"sk-toggleable__label sk-toggleable__label-arrow\">transformer: ColumnTransformer</label><div class=\"sk-toggleable__content\"><pre>ColumnTransformer(transformers=[(&#x27;onehotencoder&#x27;, OneHotEncoder(sparse=False),\n",
              "                                 [&#x27;SOUTH&#x27;, &#x27;SEX&#x27;, &#x27;UNION&#x27;, &#x27;RACE&#x27;, &#x27;MARR&#x27;])])</pre></div></div></div><div class=\"sk-parallel\"><div class=\"sk-parallel-item\"><div class=\"sk-item\"><div class=\"sk-label-container\"><div class=\"sk-label sk-toggleable\"><input class=\"sk-toggleable__control sk-hidden--visually\" id=\"501520e5-3642-4899-af1e-3908db65cdbf\" type=\"checkbox\" ><label for=\"501520e5-3642-4899-af1e-3908db65cdbf\" class=\"sk-toggleable__label sk-toggleable__label-arrow\">onehotencoder</label><div class=\"sk-toggleable__content\"><pre>[&#x27;SOUTH&#x27;, &#x27;SEX&#x27;, &#x27;UNION&#x27;, &#x27;RACE&#x27;, &#x27;MARR&#x27;]</pre></div></div></div><div class=\"sk-serial\"><div class=\"sk-item\"><div class=\"sk-estimator sk-toggleable\"><input class=\"sk-toggleable__control sk-hidden--visually\" id=\"1c6b176a-e52d-44c7-b17d-6ce001de7499\" type=\"checkbox\" ><label for=\"1c6b176a-e52d-44c7-b17d-6ce001de7499\" class=\"sk-toggleable__label sk-toggleable__label-arrow\">OneHotEncoder</label><div class=\"sk-toggleable__content\"><pre>OneHotEncoder(sparse=False)</pre></div></div></div></div></div></div></div></div><div class=\"sk-item\"><div class=\"sk-estimator sk-toggleable\"><input class=\"sk-toggleable__control sk-hidden--visually\" id=\"b7c211cf-fdf6-44b9-b7ee-23509dbce317\" type=\"checkbox\" ><label for=\"b7c211cf-fdf6-44b9-b7ee-23509dbce317\" class=\"sk-toggleable__label sk-toggleable__label-arrow\">PolynomialFeatures</label><div class=\"sk-toggleable__content\"><pre>PolynomialFeatures(degree=3, include_bias=False)</pre></div></div></div><div class=\"sk-item\"><div class=\"sk-estimator sk-toggleable\"><input class=\"sk-toggleable__control sk-hidden--visually\" id=\"ef77138b-4e07-4670-8e3f-d240a06b30be\" type=\"checkbox\" ><label for=\"ef77138b-4e07-4670-8e3f-d240a06b30be\" class=\"sk-toggleable__label sk-toggleable__label-arrow\">StandardScaler</label><div class=\"sk-toggleable__content\"><pre>StandardScaler()</pre></div></div></div><div class=\"sk-item sk-dashed-wrapped\"><div class=\"sk-label-container\"><div class=\"sk-label sk-toggleable\"><input class=\"sk-toggleable__control sk-hidden--visually\" id=\"762c6955-7a37-48b9-9ba6-712666debddd\" type=\"checkbox\" ><label for=\"762c6955-7a37-48b9-9ba6-712666debddd\" class=\"sk-toggleable__label sk-toggleable__label-arrow\">selector: SequentialFeatureSelector</label><div class=\"sk-toggleable__content\"><pre>SequentialFeatureSelector(estimator=Lasso(), n_features_to_select=5)</pre></div></div></div><div class=\"sk-parallel\"><div class=\"sk-parallel-item\"><div class=\"sk-item\"><div class=\"sk-serial\"><div class=\"sk-item\"><div class=\"sk-estimator sk-toggleable\"><input class=\"sk-toggleable__control sk-hidden--visually\" id=\"8ae1343b-28fb-4654-b449-a3d734ca0ae3\" type=\"checkbox\" ><label for=\"8ae1343b-28fb-4654-b449-a3d734ca0ae3\" class=\"sk-toggleable__label sk-toggleable__label-arrow\">Lasso</label><div class=\"sk-toggleable__content\"><pre>Lasso()</pre></div></div></div></div></div></div></div></div><div class=\"sk-item\"><div class=\"sk-estimator sk-toggleable\"><input class=\"sk-toggleable__control sk-hidden--visually\" id=\"d11f3347-1367-47f0-ab5a-de2952bc8498\" type=\"checkbox\" ><label for=\"d11f3347-1367-47f0-ab5a-de2952bc8498\" class=\"sk-toggleable__label sk-toggleable__label-arrow\">LinearRegression</label><div class=\"sk-toggleable__content\"><pre>LinearRegression()</pre></div></div></div></div></div></div></div>"
            ]
          },
          "metadata": {},
          "execution_count": 177
        }
      ]
    },
    {
      "cell_type": "code",
      "source": [
        "best_estimator.named_steps['lr_model']"
      ],
      "metadata": {
        "colab": {
          "base_uri": "https://localhost:8080/",
          "height": 75
        },
        "id": "7h-xTjFgO48L",
        "outputId": "874e3098-6790-4acd-e58e-bedc9c8831fd"
      },
      "execution_count": 178,
      "outputs": [
        {
          "output_type": "execute_result",
          "data": {
            "text/plain": [
              "LinearRegression()"
            ],
            "text/html": [
              "<style>#sk-0b232465-10af-4ffd-b1c8-6fdfb58a176d {color: black;background-color: white;}#sk-0b232465-10af-4ffd-b1c8-6fdfb58a176d pre{padding: 0;}#sk-0b232465-10af-4ffd-b1c8-6fdfb58a176d div.sk-toggleable {background-color: white;}#sk-0b232465-10af-4ffd-b1c8-6fdfb58a176d label.sk-toggleable__label {cursor: pointer;display: block;width: 100%;margin-bottom: 0;padding: 0.3em;box-sizing: border-box;text-align: center;}#sk-0b232465-10af-4ffd-b1c8-6fdfb58a176d label.sk-toggleable__label-arrow:before {content: \"▸\";float: left;margin-right: 0.25em;color: #696969;}#sk-0b232465-10af-4ffd-b1c8-6fdfb58a176d label.sk-toggleable__label-arrow:hover:before {color: black;}#sk-0b232465-10af-4ffd-b1c8-6fdfb58a176d div.sk-estimator:hover label.sk-toggleable__label-arrow:before {color: black;}#sk-0b232465-10af-4ffd-b1c8-6fdfb58a176d div.sk-toggleable__content {max-height: 0;max-width: 0;overflow: hidden;text-align: left;background-color: #f0f8ff;}#sk-0b232465-10af-4ffd-b1c8-6fdfb58a176d div.sk-toggleable__content pre {margin: 0.2em;color: black;border-radius: 0.25em;background-color: #f0f8ff;}#sk-0b232465-10af-4ffd-b1c8-6fdfb58a176d input.sk-toggleable__control:checked~div.sk-toggleable__content {max-height: 200px;max-width: 100%;overflow: auto;}#sk-0b232465-10af-4ffd-b1c8-6fdfb58a176d input.sk-toggleable__control:checked~label.sk-toggleable__label-arrow:before {content: \"▾\";}#sk-0b232465-10af-4ffd-b1c8-6fdfb58a176d div.sk-estimator input.sk-toggleable__control:checked~label.sk-toggleable__label {background-color: #d4ebff;}#sk-0b232465-10af-4ffd-b1c8-6fdfb58a176d div.sk-label input.sk-toggleable__control:checked~label.sk-toggleable__label {background-color: #d4ebff;}#sk-0b232465-10af-4ffd-b1c8-6fdfb58a176d input.sk-hidden--visually {border: 0;clip: rect(1px 1px 1px 1px);clip: rect(1px, 1px, 1px, 1px);height: 1px;margin: -1px;overflow: hidden;padding: 0;position: absolute;width: 1px;}#sk-0b232465-10af-4ffd-b1c8-6fdfb58a176d div.sk-estimator {font-family: monospace;background-color: #f0f8ff;border: 1px dotted black;border-radius: 0.25em;box-sizing: border-box;margin-bottom: 0.5em;}#sk-0b232465-10af-4ffd-b1c8-6fdfb58a176d div.sk-estimator:hover {background-color: #d4ebff;}#sk-0b232465-10af-4ffd-b1c8-6fdfb58a176d div.sk-parallel-item::after {content: \"\";width: 100%;border-bottom: 1px solid gray;flex-grow: 1;}#sk-0b232465-10af-4ffd-b1c8-6fdfb58a176d div.sk-label:hover label.sk-toggleable__label {background-color: #d4ebff;}#sk-0b232465-10af-4ffd-b1c8-6fdfb58a176d div.sk-serial::before {content: \"\";position: absolute;border-left: 1px solid gray;box-sizing: border-box;top: 2em;bottom: 0;left: 50%;}#sk-0b232465-10af-4ffd-b1c8-6fdfb58a176d div.sk-serial {display: flex;flex-direction: column;align-items: center;background-color: white;padding-right: 0.2em;padding-left: 0.2em;}#sk-0b232465-10af-4ffd-b1c8-6fdfb58a176d div.sk-item {z-index: 1;}#sk-0b232465-10af-4ffd-b1c8-6fdfb58a176d div.sk-parallel {display: flex;align-items: stretch;justify-content: center;background-color: white;}#sk-0b232465-10af-4ffd-b1c8-6fdfb58a176d div.sk-parallel::before {content: \"\";position: absolute;border-left: 1px solid gray;box-sizing: border-box;top: 2em;bottom: 0;left: 50%;}#sk-0b232465-10af-4ffd-b1c8-6fdfb58a176d div.sk-parallel-item {display: flex;flex-direction: column;position: relative;background-color: white;}#sk-0b232465-10af-4ffd-b1c8-6fdfb58a176d div.sk-parallel-item:first-child::after {align-self: flex-end;width: 50%;}#sk-0b232465-10af-4ffd-b1c8-6fdfb58a176d div.sk-parallel-item:last-child::after {align-self: flex-start;width: 50%;}#sk-0b232465-10af-4ffd-b1c8-6fdfb58a176d div.sk-parallel-item:only-child::after {width: 0;}#sk-0b232465-10af-4ffd-b1c8-6fdfb58a176d div.sk-dashed-wrapped {border: 1px dashed gray;margin: 0 0.4em 0.5em 0.4em;box-sizing: border-box;padding-bottom: 0.4em;background-color: white;position: relative;}#sk-0b232465-10af-4ffd-b1c8-6fdfb58a176d div.sk-label label {font-family: monospace;font-weight: bold;background-color: white;display: inline-block;line-height: 1.2em;}#sk-0b232465-10af-4ffd-b1c8-6fdfb58a176d div.sk-label-container {position: relative;z-index: 2;text-align: center;}#sk-0b232465-10af-4ffd-b1c8-6fdfb58a176d div.sk-container {/* jupyter's `normalize.less` sets `[hidden] { display: none; }` but bootstrap.min.css set `[hidden] { display: none !important; }` so we also need the `!important` here to be able to override the default hidden behavior on the sphinx rendered scikit-learn.org. See: https://github.com/scikit-learn/scikit-learn/issues/21755 */display: inline-block !important;position: relative;}#sk-0b232465-10af-4ffd-b1c8-6fdfb58a176d div.sk-text-repr-fallback {display: none;}</style><div id=\"sk-0b232465-10af-4ffd-b1c8-6fdfb58a176d\" class=\"sk-top-container\"><div class=\"sk-text-repr-fallback\"><pre>LinearRegression()</pre><b>Please rerun this cell to show the HTML repr or trust the notebook.</b></div><div class=\"sk-container\" hidden><div class=\"sk-item\"><div class=\"sk-estimator sk-toggleable\"><input class=\"sk-toggleable__control sk-hidden--visually\" id=\"519dad3c-e379-4c5c-9139-baa309b4f0fb\" type=\"checkbox\" checked><label for=\"519dad3c-e379-4c5c-9139-baa309b4f0fb\" class=\"sk-toggleable__label sk-toggleable__label-arrow\">LinearRegression</label><div class=\"sk-toggleable__content\"><pre>LinearRegression()</pre></div></div></div></div></div>"
            ]
          },
          "metadata": {},
          "execution_count": 178
        }
      ]
    },
    {
      "cell_type": "code",
      "source": [],
      "metadata": {
        "id": "FWOI4M1FPIV2"
      },
      "execution_count": null,
      "outputs": []
    },
    {
      "cell_type": "markdown",
      "source": [
        "# Apply  permutation_importance on Ridge model"
      ],
      "metadata": {
        "id": "nCTRRSEoPf0y"
      }
    },
    {
      "cell_type": "code",
      "source": [
        "r = permutation_importance(ridge_grid, X_test, y_test,n_repeats=1,random_state=0)\n",
        "for i in r.importances_mean.argsort()[::-1]:\n",
        "    if r.importances_mean[i] - 2 * r.importances_std[i] > 0:\n",
        "        print(f\"{df.columns[i]:<8}\"\n",
        "              f\"{r.importances_mean[i]:.3f}\"\n",
        "              f\" +/- {r.importances_std[i]:.3f}\")"
      ],
      "metadata": {
        "colab": {
          "base_uri": "https://localhost:8080/"
        },
        "id": "bY92fZmGP-GW",
        "outputId": "6659d8f5-ce6a-4b9a-92b6-82bcc07b74a2"
      },
      "execution_count": 192,
      "outputs": [
        {
          "output_type": "stream",
          "name": "stdout",
          "text": [
            "UNION   0.104 +/- 0.000\n",
            "SEX     0.075 +/- 0.000\n",
            "SOUTH   0.027 +/- 0.000\n",
            "RACE    0.004 +/- 0.000\n"
          ]
        }
      ]
    },
    {
      "cell_type": "code",
      "source": [],
      "metadata": {
        "id": "o1x579kFQMV7"
      },
      "execution_count": 192,
      "outputs": []
    },
    {
      "cell_type": "markdown",
      "source": [
        "# Using TransformedTargetRegressor estimator in scikitlearn."
      ],
      "metadata": {
        "id": "noynAPFCUJLJ"
      }
    },
    {
      "cell_type": "code",
      "source": [
        "#using StandardScaler\n",
        "# prepare the model with input scaling\n",
        "ridge_tte_pipe=Pipeline(\n",
        "               steps=[('transformer',transformer),\n",
        "                      ('poly_feaures',PolynomialFeatures(degree=3,include_bias=False)),\n",
        "                      ('scaler',StandardScaler()),\n",
        "                      ('ridge_model',Ridge())\n",
        "                                          ] \n",
        "\n",
        "                                        )\n",
        "\n",
        "\n",
        "\n",
        "#pipeline = Pipeline(steps=[('normalize', MinMaxScaler()), ('model', HuberRegressor())])\n",
        "# prepare the model with target scaling\n",
        "model = TransformedTargetRegressor(regressor=ridge_tte_pipe, transformer=StandardScaler())\n",
        "model.fit(X_train,y_train)\n",
        "tte_train_pred=model.predict(X_train)\n",
        "tte_test_pred=model.predict(X_test)"
      ],
      "metadata": {
        "id": "MHUbiJs6SU8L"
      },
      "execution_count": 193,
      "outputs": []
    },
    {
      "cell_type": "code",
      "source": [
        "tte_train_mses=mean_squared_error(y_train,tte_train_pred)\n",
        "tte_test_mses=mean_squared_error(y_test,tte_test_pred)\n",
        "print(f'train mean squared erro for TransformedTargetRegressor: {tte_train_mses}')\n",
        "print(f'test mean squared erro for TransformedTargetRegressor: {tte_test_mses}')"
      ],
      "metadata": {
        "colab": {
          "base_uri": "https://localhost:8080/"
        },
        "id": "ykjBjMCklkMc",
        "outputId": "8d1856cf-97d2-4683-ac48-7947b58b0b08"
      },
      "execution_count": 195,
      "outputs": [
        {
          "output_type": "stream",
          "name": "stdout",
          "text": [
            "train mean squared erro for TransformedTargetRegressor: 0.16742786417494238\n",
            "test mean squared erro for TransformedTargetRegressor: 0.2357350624077549\n"
          ]
        }
      ]
    },
    {
      "cell_type": "code",
      "source": [
        "from sklearn.preprocessing import MinMaxScaler"
      ],
      "metadata": {
        "id": "cKsTuydXmMCQ"
      },
      "execution_count": 197,
      "outputs": []
    },
    {
      "cell_type": "code",
      "source": [
        "#Using MinMaxScaler\n",
        "# prepare the model with input scaling\n",
        "ridge_tteminmax_pipe=Pipeline(\n",
        "               steps=[('transformer',transformer),\n",
        "                      ('poly_feaures',PolynomialFeatures(degree=3,include_bias=False)),\n",
        "                      ('scaler',MinMaxScaler()),\n",
        "                      ('ridge_model',Ridge())\n",
        "                                          ] \n",
        "\n",
        "                                        )\n",
        "\n",
        "model_minmax = TransformedTargetRegressor(regressor=ridge_tte_pipe, transformer=MinMaxScaler())\n",
        "model_minmax.fit(X_train,y_train)\n",
        "tte_train_pred_minmax=model_minmax.predict(X_train)\n",
        "tte_test_pred_minmax=model_minmax.predict(X_test)"
      ],
      "metadata": {
        "id": "0Nd3SFQxnU2a"
      },
      "execution_count": 202,
      "outputs": []
    },
    {
      "cell_type": "code",
      "source": [
        "tte_train_mses_minmax=mean_squared_error(y_train,tte_train_pred_minmax)\n",
        "tte_test_mses_minmax=mean_squared_error(y_test,tte_test_pred_minmax)\n",
        "print(f'train mean squared erro for TransformedTargetRegressor: {tte_train_mses_minmax}')\n",
        "print(f'test mean squared erro for TransformedTargetRegressor: {tte_test_mses_minmax}')"
      ],
      "metadata": {
        "colab": {
          "base_uri": "https://localhost:8080/"
        },
        "id": "loAgXSyxn4ln",
        "outputId": "a2e2daa5-d3dd-4617-c6fb-a07e853f90e3"
      },
      "execution_count": 203,
      "outputs": [
        {
          "output_type": "stream",
          "name": "stdout",
          "text": [
            "train mean squared erro for TransformedTargetRegressor: 0.1674278641749424\n",
            "test mean squared erro for TransformedTargetRegressor: 0.23573506240775582\n"
          ]
        }
      ]
    },
    {
      "cell_type": "code",
      "source": [],
      "metadata": {
        "id": "OmhtFF6xoL6I"
      },
      "execution_count": null,
      "outputs": []
    }
  ]
}